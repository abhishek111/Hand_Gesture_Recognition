{
 "cells": [
  {
   "cell_type": "markdown",
   "metadata": {
    "colab_type": "text",
    "id": "5F9ZY-j9ILhQ"
   },
   "source": [
    "# Gesture Recognition\n",
    "In this group project, you are going to build a 3D Conv model that will be able to predict the 5 gestures correctly. Please import the following libraries to get started."
   ]
  },
  {
   "cell_type": "code",
   "execution_count": 1,
   "metadata": {
    "colab": {},
    "colab_type": "code",
    "id": "DEr0I9tFILhU"
   },
   "outputs": [],
   "source": [
    "import numpy as np\n",
    "import os\n",
    "#from scipy.misc import imread, imresize\n",
    "import datetime\n",
    "import os"
   ]
  },
  {
   "cell_type": "code",
   "execution_count": 2,
   "metadata": {
    "colab": {},
    "colab_type": "code",
    "id": "NEeeIB8b1tVB"
   },
   "outputs": [],
   "source": [
    "import cv2"
   ]
  },
  {
   "cell_type": "markdown",
   "metadata": {
    "colab_type": "text",
    "id": "bWtqr9BYILhX"
   },
   "source": [
    "We set the random seed so that the results don't vary drastically."
   ]
  },
  {
   "cell_type": "code",
   "execution_count": 3,
   "metadata": {
    "colab": {
     "base_uri": "https://localhost:8080/",
     "height": 35
    },
    "colab_type": "code",
    "id": "cXf44SI8Ptrt",
    "outputId": "9e04757a-9c23-4eac-c1bf-d9e5e37a1ffb"
   },
   "outputs": [
    {
     "name": "stderr",
     "output_type": "stream",
     "text": [
      "Using TensorFlow backend.\n"
     ]
    }
   ],
   "source": [
    "import tensorflow as tf\n",
    "import random as rn\n",
    "import os\n",
    "os.environ['PYTHONHASHSEED'] = '0'\n",
    "np.random.seed(30)\n",
    "rn.seed(30)\n",
    "session_conf = tf.ConfigProto(intra_op_parallelism_threads=1, inter_op_parallelism_threads=1)\n",
    "from keras import backend as K\n",
    "tf.set_random_seed(30)\n",
    "sess = tf.Session(graph=tf.get_default_graph(), config=session_conf)\n",
    "K.set_session(sess)"
   ]
  },
  {
   "cell_type": "code",
   "execution_count": 4,
   "metadata": {
    "colab": {},
    "colab_type": "code",
    "id": "fXhU1B0tILhc"
   },
   "outputs": [],
   "source": [
    "import keras\n",
    "from skimage import io\n",
    "import os\n",
    "import glob\n",
    "import numpy as np\n",
    "import matplotlib.pyplot as plt\n",
    "% matplotlib inline\n",
    "\n",
    "import warnings\n",
    "warnings.simplefilter('ignore')"
   ]
  },
  {
   "cell_type": "markdown",
   "metadata": {
    "colab_type": "text",
    "id": "IpP-RnbhILhe"
   },
   "source": [
    "In this block, you read the folder names for training and validation. You also set the `batch_size` here. Note that you set the batch size in such a way that you are able to use the GPU in full capacity. You keep increasing the batch size until the machine throws an error."
   ]
  },
  {
   "cell_type": "code",
   "execution_count": 5,
   "metadata": {
    "colab": {},
    "colab_type": "code",
    "id": "3gVr-TTeILhf"
   },
   "outputs": [],
   "source": [
    "train_doc = np.random.permutation(open('./Project_data/train.csv').readlines())\n",
    "val_doc = np.random.permutation(open('./Project_data/val.csv').readlines())\n",
    "train_batch_size = 16\n",
    "valid_batch_size = 16"
   ]
  },
  {
   "cell_type": "code",
   "execution_count": 6,
   "metadata": {
    "colab": {},
    "colab_type": "code",
    "id": "wVeHHvezILhh"
   },
   "outputs": [],
   "source": [
    "# specify image size and channels\n",
    "img_channels = 3\n",
    "img_rows = 80\n",
    "img_cols = 80\n",
    "img_frms = 15\n",
    "\n",
    "# number of classes\n",
    "nb_classes = 5"
   ]
  },
  {
   "cell_type": "markdown",
   "metadata": {
    "colab_type": "text",
    "id": "3M0i9eXFILhk"
   },
   "source": [
    "## Generator\n",
    "This is one of the most important part of the code. The overall structure of the generator has been given. In the generator, you are going to preprocess the images as you have images of 2 different dimensions as well as create a batch of video frames. You have to experiment with `img_idx`, `y`,`z` and normalization such that you get high accuracy."
   ]
  },
  {
   "cell_type": "code",
   "execution_count": 7,
   "metadata": {
    "colab": {},
    "colab_type": "code",
    "id": "N7XQCNRQILhl"
   },
   "outputs": [],
   "source": [
    "def load_batch_data(source_path, folder_list, batch_size, t, batch):\n",
    "    img_idx = [x for x in range(0,30) if x%2 ==1]#create a list of image numbers you want to use for a particular video\n",
    "    batch_data = np.zeros((batch_size,len(img_idx),img_rows,img_cols,3)) # x is the number of images you use for each video, (y,z) is the final size of the input images and 3 is the number of channels RGB\n",
    "    batch_labels = np.zeros((batch_size,5)) # batch_labels is the one hot representation of the output\n",
    "    for folder in range(batch_size): # iterate over the batch_size\n",
    "        imgs = os.listdir(source_path+'/'+ t[folder + (batch*batch_size)].split(';')[0]) # read all the images in the folder\n",
    "        for idx,item in enumerate(img_idx): #  Iterate over the frames/images of a folder to read them in\n",
    "            image = cv2.imread(source_path+'/'+ t[folder + (batch*batch_size)].strip().split(';')[0]+'/'+imgs[item]).astype(np.float32)\n",
    "\n",
    "            #crop the images and resize them. Note that the images are of 2 different shape \n",
    "            #and the conv3D will throw error if the inputs in a batch have different shapes\n",
    "            if image.shape[0] != image.shape[1]:\n",
    "                image = image[0:120,20:140]\n",
    "            image = cv2.resize(image,(img_rows,img_cols))\n",
    "\n",
    "            batch_data[folder,idx,:,:,0] = image[:,:,0]/image[:,:,0].max()#normalise and feed in the image\n",
    "            batch_data[folder,idx,:,:,1] = image[:,:,0]/image[:,:,1].max()#normalise and feed in the image\n",
    "            batch_data[folder,idx,:,:,2] = image[:,:,0]/image[:,:,2].max()#normalise and feed in the image\n",
    "\n",
    "        batch_labels[folder, int(t[folder + (batch*batch_size)].strip().split(';')[2])] = 1\n",
    "    return batch_data, batch_labels #you yield the batch_data and the batch_labels, remember what does yield do\n",
    "    "
   ]
  },
  {
   "cell_type": "code",
   "execution_count": 8,
   "metadata": {
    "colab": {},
    "colab_type": "code",
    "id": "gNHLRXHfILhn"
   },
   "outputs": [],
   "source": [
    "def generator(source_path, folder_list, batch_size):\n",
    "    print( 'Source path = ', source_path, '; batch size =', batch_size)\n",
    "    while True:\n",
    "        t = np.random.permutation(folder_list)\n",
    "        num_batches = len(folder_list)//batch_size# calculate the number of batches\n",
    "        for batch in range(num_batches): # we iterate over the number of batches\n",
    "            yield load_batch_data(source_path, folder_list, batch_size, t, batch) #you yield the batch_data and the batch_labels, remember what does yield do\n",
    "\n",
    "        \n",
    "        # code for the remaining data points which are left after full batches\n",
    "        if (len(folder_list) != batch_size*num_batches):\n",
    "            batch_size = len(folder_list) - (batch_size*num_batches)\n",
    "            yield load_batch_data(source_path, folder_list, batch_size, t, batch)\n"
   ]
  },
  {
   "cell_type": "markdown",
   "metadata": {
    "colab_type": "text",
    "id": "HGmzKKC3ILhq"
   },
   "source": [
    "Note here that a video is represented above in the generator as (number of images, height, width, number of channels). Take this into consideration while creating the model architecture."
   ]
  },
  {
   "cell_type": "code",
   "execution_count": 9,
   "metadata": {
    "colab": {
     "base_uri": "https://localhost:8080/",
     "height": 70
    },
    "colab_type": "code",
    "id": "-aPY7x2ZILhr",
    "outputId": "7bc94f2c-883d-41ca-9b6a-775c1e8bc4a9"
   },
   "outputs": [
    {
     "name": "stdout",
     "output_type": "stream",
     "text": [
      "# training sequences = 663\n",
      "# validation sequences = 100\n",
      "# epochs = 50\n"
     ]
    }
   ],
   "source": [
    "curr_dt_time = datetime.datetime.now()\n",
    "train_path = './Project_data/train'\n",
    "val_path = './Project_data/val'\n",
    "num_train_sequences = len(train_doc)\n",
    "print('# training sequences =', num_train_sequences)\n",
    "num_val_sequences = len(val_doc)\n",
    "print('# validation sequences =', num_val_sequences)\n",
    "num_epochs = 50 # choose the number of epochs\n",
    "print ('# epochs =', num_epochs)"
   ]
  },
  {
   "cell_type": "markdown",
   "metadata": {
    "colab_type": "text",
    "id": "yZ_YQsNbILhv"
   },
   "source": [
    "## Model\n",
    "Here you make the model using different functionalities that Keras provides. Remember to use `Conv3D` and `MaxPooling3D` and not `Conv2D` and `Maxpooling2D` for a 3D convolution model. You would want to use `TimeDistributed` while building a Conv2D + RNN model. Also remember that the last layer is the softmax. Design the network in such a way that the model is able to give good accuracy on the least number of parameters so that it can fit in the memory of the webcam."
   ]
  },
  {
   "cell_type": "code",
   "execution_count": 14,
   "metadata": {
    "colab": {
     "base_uri": "https://localhost:8080/",
     "height": 232
    },
    "colab_type": "code",
    "id": "3IQnEbuuILhw",
    "outputId": "c6ea9f70-43aa-48ad-a236-694f94bc0a87"
   },
   "outputs": [],
   "source": [
    "from keras.models import Sequential, Model\n",
    "from keras.layers import Dense, GRU, Flatten, TimeDistributed, Flatten, BatchNormalization, Activation,Dropout\n",
    "from keras.layers.convolutional import Conv3D, MaxPooling3D\n",
    "from keras.callbacks import ModelCheckpoint, ReduceLROnPlateau\n",
    "from keras import optimizers\n",
    "import cv2\n",
    "\n",
    "\n",
    "input_shape=(img_frms,img_rows,img_cols,img_channels)\n",
    "\n",
    "#Define model\n",
    "model = Sequential()\n",
    "\n",
    "\n",
    "model.add(Conv3D(16, kernel_size=(3, 3,3),padding='same', input_shape=input_shape))\n",
    "model.add(Activation('relu'))\n",
    "model.add(Conv3D(16, kernel_size=(3, 3, 3),padding='same')) \n",
    "model.add(BatchNormalization())\n",
    "model.add(Activation('relu'))\n",
    "model.add(MaxPooling3D(pool_size=(2, 2, 2)))\n",
    "model.add(Dropout(0.2))\n",
    "\n",
    "model.add(Conv3D(32, kernel_size=(3, 3, 3),padding='same')) \n",
    "model.add(BatchNormalization())\n",
    "model.add(Activation('relu'))\n",
    "model.add(Conv3D(32, kernel_size=(3, 3, 3),padding='same')) \n",
    "model.add(BatchNormalization())\n",
    "model.add(Activation('relu'))\n",
    "model.add(MaxPooling3D(pool_size=(2, 2, 2)))\n",
    "model.add(Dropout(0.2))\n",
    "\n",
    "\n",
    "model.add(Conv3D(64, kernel_size=(2, 3, 3),padding='same')) \n",
    "model.add(BatchNormalization())\n",
    "model.add(Activation('relu'))\n",
    "model.add(Conv3D(64, kernel_size=(2, 3, 3),padding='same')) \n",
    "model.add(BatchNormalization())\n",
    "model.add(Activation('relu'))\n",
    "model.add(MaxPooling3D(pool_size=(2, 2, 2)))\n",
    "model.add(Dropout(0.25))\n",
    "\n",
    "\n",
    "          \n",
    "# flatten and put a fully connected layer\n",
    "model.add(Flatten())\n",
    "model.add(Dense(256, activation='relu')) # fully connected\n",
    "#model.add(Dropout(0.50))\n",
    "\n",
    "model.add(Dense(128, activation='relu')) # fully connected\n",
    "#model.add(Dropout(0.50))\n",
    "\n",
    "# softmax layer\n",
    "model.add(Dense(nb_classes))\n",
    "model.add(Activation('softmax'))\n"
   ]
  },
  {
   "cell_type": "markdown",
   "metadata": {
    "colab_type": "text",
    "id": "W68ZTD9wILh3"
   },
   "source": [
    "Now that you have written the model, the next step is to `compile` the model. When you print the `summary` of the model, you'll see the total number of parameters you have to train."
   ]
  },
  {
   "cell_type": "code",
   "execution_count": 15,
   "metadata": {
    "colab": {
     "base_uri": "https://localhost:8080/",
     "height": 1000
    },
    "colab_type": "code",
    "id": "ueIkhLDNLlXO",
    "outputId": "a0c8b3e1-9b15-44df-c801-063a9a6e2567"
   },
   "outputs": [
    {
     "name": "stdout",
     "output_type": "stream",
     "text": [
      "_________________________________________________________________\n",
      "Layer (type)                 Output Shape              Param #   \n",
      "=================================================================\n",
      "conv3d_25 (Conv3D)           (None, 15, 80, 80, 16)    1312      \n",
      "_________________________________________________________________\n",
      "activation_29 (Activation)   (None, 15, 80, 80, 16)    0         \n",
      "_________________________________________________________________\n",
      "conv3d_26 (Conv3D)           (None, 15, 80, 80, 16)    6928      \n",
      "_________________________________________________________________\n",
      "batch_normalization_21 (Batc (None, 15, 80, 80, 16)    64        \n",
      "_________________________________________________________________\n",
      "activation_30 (Activation)   (None, 15, 80, 80, 16)    0         \n",
      "_________________________________________________________________\n",
      "max_pooling3d_13 (MaxPooling (None, 7, 40, 40, 16)     0         \n",
      "_________________________________________________________________\n",
      "dropout_13 (Dropout)         (None, 7, 40, 40, 16)     0         \n",
      "_________________________________________________________________\n",
      "conv3d_27 (Conv3D)           (None, 7, 40, 40, 32)     13856     \n",
      "_________________________________________________________________\n",
      "batch_normalization_22 (Batc (None, 7, 40, 40, 32)     128       \n",
      "_________________________________________________________________\n",
      "activation_31 (Activation)   (None, 7, 40, 40, 32)     0         \n",
      "_________________________________________________________________\n",
      "conv3d_28 (Conv3D)           (None, 7, 40, 40, 32)     27680     \n",
      "_________________________________________________________________\n",
      "batch_normalization_23 (Batc (None, 7, 40, 40, 32)     128       \n",
      "_________________________________________________________________\n",
      "activation_32 (Activation)   (None, 7, 40, 40, 32)     0         \n",
      "_________________________________________________________________\n",
      "max_pooling3d_14 (MaxPooling (None, 3, 20, 20, 32)     0         \n",
      "_________________________________________________________________\n",
      "dropout_14 (Dropout)         (None, 3, 20, 20, 32)     0         \n",
      "_________________________________________________________________\n",
      "conv3d_29 (Conv3D)           (None, 3, 20, 20, 64)     36928     \n",
      "_________________________________________________________________\n",
      "batch_normalization_24 (Batc (None, 3, 20, 20, 64)     256       \n",
      "_________________________________________________________________\n",
      "activation_33 (Activation)   (None, 3, 20, 20, 64)     0         \n",
      "_________________________________________________________________\n",
      "conv3d_30 (Conv3D)           (None, 3, 20, 20, 64)     73792     \n",
      "_________________________________________________________________\n",
      "batch_normalization_25 (Batc (None, 3, 20, 20, 64)     256       \n",
      "_________________________________________________________________\n",
      "activation_34 (Activation)   (None, 3, 20, 20, 64)     0         \n",
      "_________________________________________________________________\n",
      "max_pooling3d_15 (MaxPooling (None, 1, 10, 10, 64)     0         \n",
      "_________________________________________________________________\n",
      "dropout_15 (Dropout)         (None, 1, 10, 10, 64)     0         \n",
      "_________________________________________________________________\n",
      "flatten_5 (Flatten)          (None, 6400)              0         \n",
      "_________________________________________________________________\n",
      "dense_13 (Dense)             (None, 256)               1638656   \n",
      "_________________________________________________________________\n",
      "dense_14 (Dense)             (None, 128)               32896     \n",
      "_________________________________________________________________\n",
      "dense_15 (Dense)             (None, 5)                 645       \n",
      "_________________________________________________________________\n",
      "activation_35 (Activation)   (None, 5)                 0         \n",
      "=================================================================\n",
      "Total params: 1,833,525\n",
      "Trainable params: 1,833,109\n",
      "Non-trainable params: 416\n",
      "_________________________________________________________________\n",
      "None\n"
     ]
    }
   ],
   "source": [
    "optimiser = optimizers.Adam()#write your optimizer\n",
    "model.compile(optimizer=optimiser, loss='categorical_crossentropy', metrics=['categorical_accuracy'])\n",
    "print (model.summary())"
   ]
  },
  {
   "cell_type": "markdown",
   "metadata": {
    "colab_type": "text",
    "id": "QoM8ja12ILh6"
   },
   "source": [
    "Let us create the `train_generator` and the `val_generator` which will be used in `.fit_generator`."
   ]
  },
  {
   "cell_type": "code",
   "execution_count": 16,
   "metadata": {
    "colab": {},
    "colab_type": "code",
    "id": "7XJA07KNILh7"
   },
   "outputs": [],
   "source": [
    "train_generator = generator(train_path, train_doc, train_batch_size)\n",
    "val_generator = generator(val_path, val_doc, valid_batch_size)"
   ]
  },
  {
   "cell_type": "code",
   "execution_count": 17,
   "metadata": {
    "colab": {},
    "colab_type": "code",
    "id": "fnAmNxDIILh9"
   },
   "outputs": [],
   "source": [
    "model_name = 'model_init' + '_' + str(curr_dt_time).replace(' ','').replace(':','_') + '/'\n",
    "    \n",
    "if not os.path.exists(model_name):\n",
    "    os.mkdir(model_name)\n",
    "        \n",
    "filepath = model_name + 'model-{epoch:05d}-{loss:.5f}-{categorical_accuracy:.5f}-{val_loss:.5f}-{val_categorical_accuracy:.5f}.h5'\n",
    "\n",
    "checkpoint = ModelCheckpoint(filepath, monitor='val_loss', verbose=1, save_best_only=False, save_weights_only=False, mode='auto', period=1)\n",
    "\n",
    "LR = ReduceLROnPlateau(monitor='val_loss', factor=0.5, patience=4, cooldown=1, verbose=1)\n",
    "callbacks_list = [checkpoint, LR]"
   ]
  },
  {
   "cell_type": "markdown",
   "metadata": {
    "colab_type": "text",
    "id": "Fyn1Zoi7ILiA"
   },
   "source": [
    "The `steps_per_epoch` and `validation_steps` are used by `fit_generator` to decide the number of next() calls it need to make."
   ]
  },
  {
   "cell_type": "code",
   "execution_count": 18,
   "metadata": {
    "colab": {},
    "colab_type": "code",
    "id": "LbYSRHk7Lv5P"
   },
   "outputs": [],
   "source": [
    "\n",
    "if (num_train_sequences%train_batch_size) == 0:\n",
    "    steps_per_epoch = int(num_train_sequences/train_batch_size)\n",
    "else:\n",
    "    steps_per_epoch = (num_train_sequences//train_batch_size) + 1\n",
    "\n",
    "if (num_val_sequences%valid_batch_size) == 0:\n",
    "    validation_steps = int(num_val_sequences/valid_batch_size)\n",
    "else:\n",
    "    validation_steps = (num_val_sequences//valid_batch_size) + 1"
   ]
  },
  {
   "cell_type": "markdown",
   "metadata": {
    "colab_type": "text",
    "id": "828vxxFeILiE"
   },
   "source": [
    "Let us now fit the model. This will start training the model and with the help of the checkpoints, you'll be able to save the model at the end of each epoch."
   ]
  },
  {
   "cell_type": "code",
   "execution_count": 19,
   "metadata": {
    "colab": {
     "base_uri": "https://localhost:8080/",
     "height": 1000
    },
    "colab_type": "code",
    "id": "1vZ18r5qK8b4",
    "outputId": "a0654b8f-4ec6-4616-d874-9e7afa55302c"
   },
   "outputs": [
    {
     "name": "stdout",
     "output_type": "stream",
     "text": [
      "Epoch 1/50\n",
      "Source path =  ../content/gdrive/My Drive/Colab Notebooks/Project_data/val ; batch size = 16\n",
      "Source path =  ../content/gdrive/My Drive/Colab Notebooks/Project_data/train ; batch size = 16\n",
      "42/42 [==============================] - 70s 2s/step - loss: 9.8725 - categorical_accuracy: 0.3078 - val_loss: 10.6613 - val_categorical_accuracy: 0.2600\n",
      "\n",
      "Epoch 00001: saving model to ../content/gdrive/My Drive/Colab Notebooks/model_init_2019-09-2010_21_14.764750/model-00001-9.88126-0.30618-10.66126-0.26000.h5\n",
      "Epoch 2/50\n",
      "42/42 [==============================] - 27s 647ms/step - loss: 10.3597 - categorical_accuracy: 0.3231 - val_loss: 10.9541 - val_categorical_accuracy: 0.3214\n",
      "\n",
      "Epoch 00002: saving model to ../content/gdrive/My Drive/Colab Notebooks/model_init_2019-09-2010_21_14.764750/model-00002-10.35967-0.32313-10.95411-0.32143.h5\n",
      "Epoch 3/50\n",
      "42/42 [==============================] - 29s 692ms/step - loss: 3.1779 - categorical_accuracy: 0.2721 - val_loss: 2.0098 - val_categorical_accuracy: 0.2143\n",
      "\n",
      "Epoch 00003: saving model to ../content/gdrive/My Drive/Colab Notebooks/model_init_2019-09-2010_21_14.764750/model-00003-3.17791-0.27211-2.00975-0.21429.h5\n",
      "Epoch 4/50\n",
      "42/42 [==============================] - 23s 551ms/step - loss: 1.3496 - categorical_accuracy: 0.3681 - val_loss: 1.1805 - val_categorical_accuracy: 0.4286\n",
      "\n",
      "Epoch 00004: saving model to ../content/gdrive/My Drive/Colab Notebooks/model_init_2019-09-2010_21_14.764750/model-00004-1.35142-0.36957-1.18050-0.42857.h5\n",
      "Epoch 5/50\n",
      "42/42 [==============================] - 21s 508ms/step - loss: 1.3498 - categorical_accuracy: 0.4048 - val_loss: 1.3209 - val_categorical_accuracy: 0.3571\n",
      "\n",
      "Epoch 00005: saving model to ../content/gdrive/My Drive/Colab Notebooks/model_init_2019-09-2010_21_14.764750/model-00005-1.34984-0.40476-1.32087-0.35714.h5\n",
      "Epoch 6/50\n",
      "42/42 [==============================] - 21s 507ms/step - loss: 1.2122 - categorical_accuracy: 0.4524 - val_loss: 0.9935 - val_categorical_accuracy: 0.5000\n",
      "\n",
      "Epoch 00006: saving model to ../content/gdrive/My Drive/Colab Notebooks/model_init_2019-09-2010_21_14.764750/model-00006-1.21225-0.45238-0.99354-0.50000.h5\n",
      "Epoch 7/50\n",
      "42/42 [==============================] - 17s 411ms/step - loss: 0.9666 - categorical_accuracy: 0.6220 - val_loss: 1.2428 - val_categorical_accuracy: 0.3571\n",
      "\n",
      "Epoch 00007: saving model to ../content/gdrive/My Drive/Colab Notebooks/model_init_2019-09-2010_21_14.764750/model-00007-0.97509-0.61250-1.24278-0.35714.h5\n",
      "Epoch 8/50\n",
      "42/42 [==============================] - 14s 327ms/step - loss: 1.0377 - categorical_accuracy: 0.6032 - val_loss: 1.3187 - val_categorical_accuracy: 0.5000\n",
      "\n",
      "Epoch 00008: saving model to ../content/gdrive/My Drive/Colab Notebooks/model_init_2019-09-2010_21_14.764750/model-00008-1.03773-0.60317-1.31871-0.50000.h5\n",
      "Epoch 9/50\n",
      "42/42 [==============================] - 13s 318ms/step - loss: 1.4125 - categorical_accuracy: 0.3889 - val_loss: 1.2191 - val_categorical_accuracy: 0.3929\n",
      "\n",
      "Epoch 00009: saving model to ../content/gdrive/My Drive/Colab Notebooks/model_init_2019-09-2010_21_14.764750/model-00009-1.41254-0.38889-1.21909-0.39286.h5\n",
      "Epoch 10/50\n",
      "42/42 [==============================] - 13s 321ms/step - loss: 1.0742 - categorical_accuracy: 0.5238 - val_loss: 0.8402 - val_categorical_accuracy: 0.6071\n",
      "\n",
      "Epoch 00010: saving model to ../content/gdrive/My Drive/Colab Notebooks/model_init_2019-09-2010_21_14.764750/model-00010-1.07419-0.52381-0.84016-0.60714.h5\n",
      "Epoch 11/50\n",
      "42/42 [==============================] - 13s 318ms/step - loss: 1.1361 - categorical_accuracy: 0.5397 - val_loss: 0.8962 - val_categorical_accuracy: 0.5714\n",
      "\n",
      "Epoch 00011: saving model to ../content/gdrive/My Drive/Colab Notebooks/model_init_2019-09-2010_21_14.764750/model-00011-1.13606-0.53968-0.89615-0.57143.h5\n",
      "Epoch 12/50\n",
      "42/42 [==============================] - 13s 305ms/step - loss: 0.9113 - categorical_accuracy: 0.6190 - val_loss: 0.9031 - val_categorical_accuracy: 0.6429\n",
      "\n",
      "Epoch 00012: saving model to ../content/gdrive/My Drive/Colab Notebooks/model_init_2019-09-2010_21_14.764750/model-00012-0.91128-0.61905-0.90310-0.64286.h5\n",
      "Epoch 13/50\n",
      "42/42 [==============================] - 13s 320ms/step - loss: 0.9100 - categorical_accuracy: 0.6270 - val_loss: 2.0345 - val_categorical_accuracy: 0.5000\n",
      "\n",
      "Epoch 00013: saving model to ../content/gdrive/My Drive/Colab Notebooks/model_init_2019-09-2010_21_14.764750/model-00013-0.90998-0.62698-2.03445-0.50000.h5\n",
      "Epoch 14/50\n",
      "42/42 [==============================] - 13s 314ms/step - loss: 0.8183 - categorical_accuracy: 0.6746 - val_loss: 1.0810 - val_categorical_accuracy: 0.6429\n",
      "\n",
      "Epoch 00014: saving model to ../content/gdrive/My Drive/Colab Notebooks/model_init_2019-09-2010_21_14.764750/model-00014-0.81828-0.67460-1.08102-0.64286.h5\n",
      "\n",
      "Epoch 00014: ReduceLROnPlateau reducing learning rate to 0.0005000000237487257.\n",
      "Epoch 15/50\n",
      "42/42 [==============================] - 13s 319ms/step - loss: 1.0964 - categorical_accuracy: 0.5159 - val_loss: 0.7606 - val_categorical_accuracy: 0.6786\n",
      "\n",
      "Epoch 00015: saving model to ../content/gdrive/My Drive/Colab Notebooks/model_init_2019-09-2010_21_14.764750/model-00015-1.09643-0.51587-0.76059-0.67857.h5\n",
      "Epoch 16/50\n",
      "42/42 [==============================] - 14s 323ms/step - loss: 0.7940 - categorical_accuracy: 0.6667 - val_loss: 0.8432 - val_categorical_accuracy: 0.6429\n",
      "\n",
      "Epoch 00016: saving model to ../content/gdrive/My Drive/Colab Notebooks/model_init_2019-09-2010_21_14.764750/model-00016-0.79401-0.66667-0.84325-0.64286.h5\n",
      "Epoch 17/50\n",
      "42/42 [==============================] - 14s 328ms/step - loss: 0.8116 - categorical_accuracy: 0.6667 - val_loss: 0.6080 - val_categorical_accuracy: 0.8214\n",
      "\n",
      "Epoch 00017: saving model to ../content/gdrive/My Drive/Colab Notebooks/model_init_2019-09-2010_21_14.764750/model-00017-0.81159-0.66667-0.60799-0.82143.h5\n",
      "Epoch 18/50\n",
      "42/42 [==============================] - 13s 318ms/step - loss: 0.6929 - categorical_accuracy: 0.6746 - val_loss: 0.7674 - val_categorical_accuracy: 0.7143\n",
      "\n",
      "Epoch 00018: saving model to ../content/gdrive/My Drive/Colab Notebooks/model_init_2019-09-2010_21_14.764750/model-00018-0.69285-0.67460-0.76743-0.71429.h5\n",
      "Epoch 19/50\n",
      "42/42 [==============================] - 14s 325ms/step - loss: 0.6816 - categorical_accuracy: 0.6905 - val_loss: 1.3004 - val_categorical_accuracy: 0.6071\n",
      "\n",
      "Epoch 00019: saving model to ../content/gdrive/My Drive/Colab Notebooks/model_init_2019-09-2010_21_14.764750/model-00019-0.68164-0.69048-1.30044-0.60714.h5\n",
      "Epoch 20/50\n",
      "42/42 [==============================] - 13s 312ms/step - loss: 0.6519 - categorical_accuracy: 0.7381 - val_loss: 0.5503 - val_categorical_accuracy: 0.7857\n",
      "\n",
      "Epoch 00020: saving model to ../content/gdrive/My Drive/Colab Notebooks/model_init_2019-09-2010_21_14.764750/model-00020-0.65189-0.73810-0.55027-0.78571.h5\n",
      "Epoch 21/50\n",
      "42/42 [==============================] - 14s 328ms/step - loss: 0.8519 - categorical_accuracy: 0.6825 - val_loss: 0.8463 - val_categorical_accuracy: 0.6071\n",
      "\n",
      "Epoch 00021: saving model to ../content/gdrive/My Drive/Colab Notebooks/model_init_2019-09-2010_21_14.764750/model-00021-0.85190-0.68254-0.84626-0.60714.h5\n",
      "Epoch 22/50\n",
      "42/42 [==============================] - 14s 333ms/step - loss: 0.6259 - categorical_accuracy: 0.7222 - val_loss: 0.9984 - val_categorical_accuracy: 0.5000\n",
      "\n",
      "Epoch 00022: saving model to ../content/gdrive/My Drive/Colab Notebooks/model_init_2019-09-2010_21_14.764750/model-00022-0.62587-0.72222-0.99838-0.50000.h5\n",
      "Epoch 23/50\n",
      "42/42 [==============================] - 14s 324ms/step - loss: 0.6025 - categorical_accuracy: 0.7857 - val_loss: 0.7188 - val_categorical_accuracy: 0.7143\n",
      "\n",
      "Epoch 00023: saving model to ../content/gdrive/My Drive/Colab Notebooks/model_init_2019-09-2010_21_14.764750/model-00023-0.60245-0.78571-0.71878-0.71429.h5\n",
      "Epoch 24/50\n",
      "42/42 [==============================] - 14s 323ms/step - loss: 0.5796 - categorical_accuracy: 0.7460 - val_loss: 0.4364 - val_categorical_accuracy: 0.8214\n",
      "\n",
      "Epoch 00024: saving model to ../content/gdrive/My Drive/Colab Notebooks/model_init_2019-09-2010_21_14.764750/model-00024-0.57964-0.74603-0.43642-0.82143.h5\n",
      "Epoch 25/50\n",
      "42/42 [==============================] - 14s 329ms/step - loss: 0.6133 - categorical_accuracy: 0.7143 - val_loss: 0.9327 - val_categorical_accuracy: 0.6429\n",
      "\n",
      "Epoch 00025: saving model to ../content/gdrive/My Drive/Colab Notebooks/model_init_2019-09-2010_21_14.764750/model-00025-0.61331-0.71429-0.93268-0.64286.h5\n",
      "Epoch 26/50\n",
      "42/42 [==============================] - 13s 310ms/step - loss: 0.5810 - categorical_accuracy: 0.7778 - val_loss: 0.8538 - val_categorical_accuracy: 0.6071\n",
      "\n",
      "Epoch 00026: saving model to ../content/gdrive/My Drive/Colab Notebooks/model_init_2019-09-2010_21_14.764750/model-00026-0.58103-0.77778-0.85376-0.60714.h5\n",
      "Epoch 27/50\n",
      "42/42 [==============================] - 14s 326ms/step - loss: 0.7138 - categorical_accuracy: 0.6905 - val_loss: 0.7909 - val_categorical_accuracy: 0.7857\n",
      "\n",
      "Epoch 00027: saving model to ../content/gdrive/My Drive/Colab Notebooks/model_init_2019-09-2010_21_14.764750/model-00027-0.71375-0.69048-0.79091-0.78571.h5\n",
      "Epoch 28/50\n",
      "42/42 [==============================] - 13s 320ms/step - loss: 0.5819 - categorical_accuracy: 0.7698 - val_loss: 0.5564 - val_categorical_accuracy: 0.8571\n",
      "\n",
      "Epoch 00028: saving model to ../content/gdrive/My Drive/Colab Notebooks/model_init_2019-09-2010_21_14.764750/model-00028-0.58189-0.76984-0.55638-0.85714.h5\n",
      "\n",
      "Epoch 00028: ReduceLROnPlateau reducing learning rate to 0.0002500000118743628.\n",
      "Epoch 29/50\n",
      "42/42 [==============================] - 13s 319ms/step - loss: 0.4069 - categorical_accuracy: 0.8651 - val_loss: 0.4122 - val_categorical_accuracy: 0.8214\n",
      "\n",
      "Epoch 00029: saving model to ../content/gdrive/My Drive/Colab Notebooks/model_init_2019-09-2010_21_14.764750/model-00029-0.40692-0.86508-0.41224-0.82143.h5\n",
      "Epoch 30/50\n",
      "42/42 [==============================] - 15s 348ms/step - loss: 0.3754 - categorical_accuracy: 0.8651 - val_loss: 0.6869 - val_categorical_accuracy: 0.7500\n",
      "\n",
      "Epoch 00030: saving model to ../content/gdrive/My Drive/Colab Notebooks/model_init_2019-09-2010_21_14.764750/model-00030-0.37543-0.86508-0.68689-0.75000.h5\n",
      "Epoch 31/50\n",
      "42/42 [==============================] - 13s 321ms/step - loss: 0.4243 - categorical_accuracy: 0.8095 - val_loss: 0.2730 - val_categorical_accuracy: 0.9286\n",
      "\n",
      "Epoch 00031: saving model to ../content/gdrive/My Drive/Colab Notebooks/model_init_2019-09-2010_21_14.764750/model-00031-0.42427-0.80952-0.27303-0.92857.h5\n",
      "Epoch 32/50\n",
      "42/42 [==============================] - 14s 327ms/step - loss: 0.4793 - categorical_accuracy: 0.8095 - val_loss: 0.5508 - val_categorical_accuracy: 0.8214\n",
      "\n",
      "Epoch 00032: saving model to ../content/gdrive/My Drive/Colab Notebooks/model_init_2019-09-2010_21_14.764750/model-00032-0.47928-0.80952-0.55084-0.82143.h5\n",
      "Epoch 33/50\n",
      "42/42 [==============================] - 13s 318ms/step - loss: 0.4493 - categorical_accuracy: 0.8413 - val_loss: 0.6969 - val_categorical_accuracy: 0.7857\n",
      "\n",
      "Epoch 00033: saving model to ../content/gdrive/My Drive/Colab Notebooks/model_init_2019-09-2010_21_14.764750/model-00033-0.44927-0.84127-0.69692-0.78571.h5\n",
      "Epoch 34/50\n",
      "42/42 [==============================] - 13s 312ms/step - loss: 0.2708 - categorical_accuracy: 0.9127 - val_loss: 0.4488 - val_categorical_accuracy: 0.8571\n",
      "\n",
      "Epoch 00034: saving model to ../content/gdrive/My Drive/Colab Notebooks/model_init_2019-09-2010_21_14.764750/model-00034-0.27080-0.91270-0.44881-0.85714.h5\n",
      "Epoch 35/50\n",
      "42/42 [==============================] - 13s 319ms/step - loss: 0.2750 - categorical_accuracy: 0.8968 - val_loss: 0.3502 - val_categorical_accuracy: 0.8929\n",
      "\n",
      "Epoch 00035: saving model to ../content/gdrive/My Drive/Colab Notebooks/model_init_2019-09-2010_21_14.764750/model-00035-0.27504-0.89683-0.35015-0.89286.h5\n",
      "\n",
      "Epoch 00035: ReduceLROnPlateau reducing learning rate to 0.0001250000059371814.\n",
      "Epoch 36/50\n",
      "42/42 [==============================] - 14s 330ms/step - loss: 0.2397 - categorical_accuracy: 0.8968 - val_loss: 0.6905 - val_categorical_accuracy: 0.8214\n",
      "\n",
      "Epoch 00036: saving model to ../content/gdrive/My Drive/Colab Notebooks/model_init_2019-09-2010_21_14.764750/model-00036-0.23969-0.89683-0.69046-0.82143.h5\n",
      "Epoch 37/50\n",
      "42/42 [==============================] - 14s 324ms/step - loss: 0.3601 - categorical_accuracy: 0.8651 - val_loss: 0.7212 - val_categorical_accuracy: 0.7143\n",
      "\n",
      "Epoch 00037: saving model to ../content/gdrive/My Drive/Colab Notebooks/model_init_2019-09-2010_21_14.764750/model-00037-0.36006-0.86508-0.72123-0.71429.h5\n",
      "Epoch 38/50\n",
      "42/42 [==============================] - 14s 323ms/step - loss: 0.3168 - categorical_accuracy: 0.8651 - val_loss: 0.4330 - val_categorical_accuracy: 0.8929\n",
      "\n",
      "Epoch 00038: saving model to ../content/gdrive/My Drive/Colab Notebooks/model_init_2019-09-2010_21_14.764750/model-00038-0.31683-0.86508-0.43297-0.89286.h5\n",
      "Epoch 39/50\n",
      "42/42 [==============================] - 14s 329ms/step - loss: 0.2378 - categorical_accuracy: 0.9286 - val_loss: 0.8159 - val_categorical_accuracy: 0.7143\n",
      "\n",
      "Epoch 00039: saving model to ../content/gdrive/My Drive/Colab Notebooks/model_init_2019-09-2010_21_14.764750/model-00039-0.23781-0.92857-0.81589-0.71429.h5\n",
      "\n",
      "Epoch 00039: ReduceLROnPlateau reducing learning rate to 6.25000029685907e-05.\n",
      "Epoch 40/50\n",
      "42/42 [==============================] - 14s 325ms/step - loss: 0.2919 - categorical_accuracy: 0.8730 - val_loss: 0.3418 - val_categorical_accuracy: 0.8929\n",
      "\n",
      "Epoch 00040: saving model to ../content/gdrive/My Drive/Colab Notebooks/model_init_2019-09-2010_21_14.764750/model-00040-0.29185-0.87302-0.34180-0.89286.h5\n",
      "Epoch 41/50\n",
      "42/42 [==============================] - 13s 316ms/step - loss: 0.2947 - categorical_accuracy: 0.9127 - val_loss: 0.2442 - val_categorical_accuracy: 0.9643\n",
      "\n",
      "Epoch 00041: saving model to ../content/gdrive/My Drive/Colab Notebooks/model_init_2019-09-2010_21_14.764750/model-00041-0.29466-0.91270-0.24421-0.96429.h5\n",
      "Epoch 42/50\n",
      "42/42 [==============================] - 14s 331ms/step - loss: 0.1484 - categorical_accuracy: 0.9683 - val_loss: 0.6094 - val_categorical_accuracy: 0.8214\n",
      "\n",
      "Epoch 00042: saving model to ../content/gdrive/My Drive/Colab Notebooks/model_init_2019-09-2010_21_14.764750/model-00042-0.14842-0.96825-0.60941-0.82143.h5\n",
      "Epoch 43/50\n",
      "42/42 [==============================] - 13s 317ms/step - loss: 0.2611 - categorical_accuracy: 0.8968 - val_loss: 0.4064 - val_categorical_accuracy: 0.8214\n",
      "\n",
      "Epoch 00043: saving model to ../content/gdrive/My Drive/Colab Notebooks/model_init_2019-09-2010_21_14.764750/model-00043-0.26110-0.89683-0.40638-0.82143.h5\n",
      "Epoch 44/50\n",
      "42/42 [==============================] - 14s 333ms/step - loss: 0.1739 - categorical_accuracy: 0.9286 - val_loss: 0.4613 - val_categorical_accuracy: 0.8571\n",
      "\n",
      "Epoch 00044: saving model to ../content/gdrive/My Drive/Colab Notebooks/model_init_2019-09-2010_21_14.764750/model-00044-0.17392-0.92857-0.46135-0.85714.h5\n",
      "Epoch 45/50\n",
      "42/42 [==============================] - 14s 325ms/step - loss: 0.1635 - categorical_accuracy: 0.9524 - val_loss: 0.5803 - val_categorical_accuracy: 0.8214\n",
      "\n",
      "Epoch 00045: saving model to ../content/gdrive/My Drive/Colab Notebooks/model_init_2019-09-2010_21_14.764750/model-00045-0.16354-0.95238-0.58027-0.82143.h5\n",
      "\n",
      "Epoch 00045: ReduceLROnPlateau reducing learning rate to 3.125000148429535e-05.\n",
      "Epoch 46/50\n",
      "42/42 [==============================] - 14s 328ms/step - loss: 0.2094 - categorical_accuracy: 0.9206 - val_loss: 0.6297 - val_categorical_accuracy: 0.7857\n",
      "\n",
      "Epoch 00046: saving model to ../content/gdrive/My Drive/Colab Notebooks/model_init_2019-09-2010_21_14.764750/model-00046-0.20936-0.92063-0.62966-0.78571.h5\n",
      "Epoch 47/50\n",
      "42/42 [==============================] - 13s 315ms/step - loss: 0.1643 - categorical_accuracy: 0.9683 - val_loss: 0.2643 - val_categorical_accuracy: 0.9286\n",
      "\n",
      "Epoch 00047: saving model to ../content/gdrive/My Drive/Colab Notebooks/model_init_2019-09-2010_21_14.764750/model-00047-0.16429-0.96825-0.26435-0.92857.h5\n",
      "Epoch 48/50\n",
      "42/42 [==============================] - 14s 328ms/step - loss: 0.2326 - categorical_accuracy: 0.9127 - val_loss: 0.5722 - val_categorical_accuracy: 0.8214\n",
      "\n",
      "Epoch 00048: saving model to ../content/gdrive/My Drive/Colab Notebooks/model_init_2019-09-2010_21_14.764750/model-00048-0.23264-0.91270-0.57224-0.82143.h5\n",
      "Epoch 49/50\n",
      "42/42 [==============================] - 13s 317ms/step - loss: 0.1709 - categorical_accuracy: 0.9286 - val_loss: 0.4337 - val_categorical_accuracy: 0.8571\n",
      "\n",
      "Epoch 00049: saving model to ../content/gdrive/My Drive/Colab Notebooks/model_init_2019-09-2010_21_14.764750/model-00049-0.17092-0.92857-0.43368-0.85714.h5\n",
      "\n",
      "Epoch 00049: ReduceLROnPlateau reducing learning rate to 1.5625000742147677e-05.\n",
      "Epoch 50/50\n",
      "42/42 [==============================] - 14s 322ms/step - loss: 0.1414 - categorical_accuracy: 0.9841 - val_loss: 0.4137 - val_categorical_accuracy: 0.8929\n",
      "\n",
      "Epoch 00050: saving model to ../content/gdrive/My Drive/Colab Notebooks/model_init_2019-09-2010_21_14.764750/model-00050-0.14141-0.98413-0.41369-0.89286.h5\n"
     ]
    }
   ],
   "source": [
    "hist = model.fit_generator(train_generator, steps_per_epoch=steps_per_epoch, epochs=num_epochs, verbose=1, \n",
    "                    callbacks=callbacks_list, validation_data=val_generator, \n",
    "                    validation_steps=validation_steps, class_weight=None, workers=1, initial_epoch=0)"
   ]
  },
  {
   "cell_type": "markdown",
   "metadata": {},
   "source": [
    "<b>We Selected the model at Epoch 47, which gave training accuracy of 96.83% and validation accuracy of 92.86% </b>"
   ]
  },
  {
   "cell_type": "code",
   "execution_count": 20,
   "metadata": {
    "colab": {
     "base_uri": "https://localhost:8080/",
     "height": 324
    },
    "colab_type": "code",
    "id": "-vZGssaDzE4k",
    "outputId": "7cacd98d-ed8b-40f8-fc46-f2ac9a065eff"
   },
   "outputs": [
    {
     "data": {
      "image/png": "[encoded data removed]",
      "text/plain": [
       "<Figure size 576x360 with 1 Axes>"
      ]
     },
     "metadata": {
      "tags": []
     },
     "output_type": "display_data"
    }
   ],
   "source": [
    "import pandas as pd\n",
    "pd.DataFrame(hist.history).plot(figsize = (8,5))\n",
    "plt.grid(True)\n",
    "plt.gca().set_ylim(0,1)\n",
    "plt.show()"
   ]
  }
 ],
 "metadata": {
  "accelerator": "GPU",
  "colab": {
   "collapsed_sections": [],
   "name": "Gesture recognition Final_Notebook.ipynb",
   "provenance": []
  },
  "kernelspec": {
   "display_name": "Python 3",
   "language": "python",
   "name": "python3"
  },
  "language_info": {
   "codemirror_mode": {
    "name": "ipython",
    "version": 3
   },
   "file_extension": ".py",
   "mimetype": "text/x-python",
   "name": "python",
   "nbconvert_exporter": "python",
   "pygments_lexer": "ipython3",
   "version": "3.7.0"
  }
 },
 "nbformat": 4,
 "nbformat_minor": 1
}
