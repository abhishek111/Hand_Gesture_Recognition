{
 "cells": [
  {
   "cell_type": "markdown",
   "metadata": {
    "colab_type": "text",
    "id": "5F9ZY-j9ILhQ"
   },
   "source": [
    "# Gesture Recognition\n"
   ]
  },
  {
   "cell_type": "code",
   "execution_count": 0,
   "metadata": {
    "colab": {},
    "colab_type": "code",
    "id": "DEr0I9tFILhU"
   },
   "outputs": [],
   "source": [
    "import numpy as np\n",
    "import os\n",
    "import cv2\n",
    "import datetime\n",
    "import os"
   ]
  },
  {
   "cell_type": "markdown",
   "metadata": {
    "colab_type": "text",
    "id": "bWtqr9BYILhX"
   },
   "source": [
    "We set the random seed so that the results don't vary drastically."
   ]
  },
  {
   "cell_type": "code",
   "execution_count": 2,
   "metadata": {
    "colab": {
     "base_uri": "https://localhost:8080/",
     "height": 34
    },
    "colab_type": "code",
    "id": "cXf44SI8Ptrt",
    "outputId": "0af48adc-f22c-407c-baac-7e8720f36038"
   },
   "outputs": [
    {
     "name": "stderr",
     "output_type": "stream",
     "text": [
      "Using TensorFlow backend.\n"
     ]
    }
   ],
   "source": [
    "import tensorflow as tf\n",
    "import random as rn\n",
    "import os\n",
    "os.environ['PYTHONHASHSEED'] = '0'\n",
    "np.random.seed(30)\n",
    "rn.seed(30)\n",
    "session_conf = tf.ConfigProto(intra_op_parallelism_threads=1, inter_op_parallelism_threads=1)\n",
    "from keras import backend as K\n",
    "tf.set_random_seed(30)\n",
    "sess = tf.Session(graph=tf.get_default_graph(), config=session_conf)\n",
    "K.set_session(sess)"
   ]
  },
  {
   "cell_type": "code",
   "execution_count": 0,
   "metadata": {
    "colab": {},
    "colab_type": "code",
    "id": "fXhU1B0tILhc"
   },
   "outputs": [],
   "source": [
    "import keras\n",
    "from skimage import io\n",
    "import os\n",
    "import glob\n",
    "import numpy as np\n",
    "import matplotlib.pyplot as plt\n",
    "% matplotlib inline\n",
    "\n",
    "import warnings\n",
    "warnings.simplefilter('ignore')"
   ]
  },
  {
   "cell_type": "code",
   "execution_count": 4,
   "metadata": {
    "colab": {
     "base_uri": "https://localhost:8080/",
     "height": 121
    },
    "colab_type": "code",
    "id": "XOpsHBRJTpqx",
    "outputId": "c09e4000-67ba-4f81-ab3f-b7632accd4a2"
   },
   "outputs": [
    {
     "name": "stdout",
     "output_type": "stream",
     "text": [
      "Go to this URL in a browser: https://accounts.google.com/o/oauth2/auth?client_id=947318989803-6bn6qk8qdgf4n4g3pfee6491hc0brc4i.apps.googleusercontent.com&redirect_uri=urn%3Aietf%3Awg%3Aoauth%3A2.0%3Aoob&scope=email%20https%3A%2F%2Fwww.googleapis.com%2Fauth%2Fdocs.test%20https%3A%2F%2Fwww.googleapis.com%2Fauth%2Fdrive%20https%3A%2F%2Fwww.googleapis.com%2Fauth%2Fdrive.photos.readonly%20https%3A%2F%2Fwww.googleapis.com%2Fauth%2Fpeopleapi.readonly&response_type=code\n",
      "\n",
      "Enter your authorization code:\n",
      "··········\n",
      "Mounted at /content/gdrive\n"
     ]
    }
   ],
   "source": [
    "from google.colab import drive\n",
    "drive.mount('/content/gdrive')"
   ]
  },
  {
   "cell_type": "code",
   "execution_count": 5,
   "metadata": {
    "colab": {
     "base_uri": "https://localhost:8080/",
     "height": 34
    },
    "colab_type": "code",
    "id": "6NUPxYOiz9IZ",
    "outputId": "274ad920-25ca-47b5-e6a6-26b19558af0b"
   },
   "outputs": [
    {
     "name": "stdout",
     "output_type": "stream",
     "text": [
      "['val', 'train', 'val.csv', 'train.csv']\n"
     ]
    }
   ],
   "source": [
    "import os\n",
    "print(os.listdir(\"../content/gdrive/My Drive/Colab Notebooks/Project_data\"))"
   ]
  },
  {
   "cell_type": "markdown",
   "metadata": {
    "colab_type": "text",
    "id": "IpP-RnbhILhe"
   },
   "source": [
    "In this block, you read the folder names for training and validation. You also set the `batch_size` here. Note that you set the batch size in such a way that you are able to use the GPU in full capacity. You keep increasing the batch size until the machine throws an error."
   ]
  },
  {
   "cell_type": "code",
   "execution_count": 0,
   "metadata": {
    "colab": {},
    "colab_type": "code",
    "id": "3gVr-TTeILhf"
   },
   "outputs": [],
   "source": [
    "train_doc = np.random.permutation(open('../content/gdrive/My Drive/Colab Notebooks/Project_data/train.csv').readlines())\n",
    "val_doc = np.random.permutation(open('../content/gdrive/My Drive/Colab Notebooks/Project_data/val.csv').readlines())\n",
    "train_batch_size = 16\n",
    "valid_batch_size = 16"
   ]
  },
  {
   "cell_type": "code",
   "execution_count": 0,
   "metadata": {
    "colab": {},
    "colab_type": "code",
    "id": "wVeHHvezILhh"
   },
   "outputs": [],
   "source": [
    "# specify image size and channels\n",
    "img_channels = 3\n",
    "img_rows = 80\n",
    "img_cols = 80\n",
    "img_frms = 15\n",
    "\n",
    "# number of classes\n",
    "nb_classes = 5"
   ]
  },
  {
   "cell_type": "markdown",
   "metadata": {
    "colab_type": "text",
    "id": "3M0i9eXFILhk"
   },
   "source": [
    "## Generator\n",
    "This is one of the most important part of the code. The overall structure of the generator has been given. In the generator, you are going to preprocess the images as you have images of 2 different dimensions as well as create a batch of video frames. You have to experiment with `img_idx`, `y`,`z` and normalization such that you get high accuracy."
   ]
  },
  {
   "cell_type": "code",
   "execution_count": 0,
   "metadata": {
    "colab": {},
    "colab_type": "code",
    "id": "N7XQCNRQILhl"
   },
   "outputs": [],
   "source": [
    "def load_batch_data(source_path, folder_list, batch_size, t, batch):\n",
    "    img_idx = [x for x in range(0,30) if x%2 ==1]#create a list of image numbers you want to use for a particular video\n",
    "    batch_data = np.zeros((batch_size,len(img_idx),img_rows,img_cols,3)) # x is the number of images you use for each video, (y,z) is the final size of the input images and 3 is the number of channels RGB\n",
    "    batch_labels = np.zeros((batch_size,5)) # batch_labels is the one hot representation of the output\n",
    "    for folder in range(batch_size): # iterate over the batch_size\n",
    "        imgs = os.listdir(source_path+'/'+ t[folder + (batch*batch_size)].split(';')[0]) # read all the images in the folder\n",
    "        for idx,item in enumerate(img_idx): #  Iterate over the frames/images of a folder to read them in\n",
    "            image = cv2.imread(source_path+'/'+ t[folder + (batch*batch_size)].strip().split(';')[0]+'/'+imgs[item]).astype(np.float32)\n",
    "\n",
    "            #crop the images and resize them. Note that the images are of 2 different shape \n",
    "            #and the conv3D will throw error if the inputs in a batch have different shapes\n",
    "            if image.shape[0] != image.shape[1]:\n",
    "                image = image[0:120,20:140]\n",
    "            image = cv2.resize(image,(img_rows,img_cols))\n",
    "\n",
    "            batch_data[folder,idx,:,:,0] = image[:,:,0]/image[:,:,0].max()#normalise and feed in the image\n",
    "            batch_data[folder,idx,:,:,1] = image[:,:,0]/image[:,:,1].max()#normalise and feed in the image\n",
    "            batch_data[folder,idx,:,:,2] = image[:,:,0]/image[:,:,2].max()#normalise and feed in the image\n",
    "\n",
    "        batch_labels[folder, int(t[folder + (batch*batch_size)].strip().split(';')[2])] = 1\n",
    "    return batch_data, batch_labels #you yield the batch_data and the batch_labels, remember what does yield do\n",
    "    "
   ]
  },
  {
   "cell_type": "code",
   "execution_count": 0,
   "metadata": {
    "colab": {},
    "colab_type": "code",
    "id": "gNHLRXHfILhn"
   },
   "outputs": [],
   "source": [
    "def generator(source_path, folder_list, batch_size):\n",
    "    print( 'Source path = ', source_path, '; batch size =', batch_size)\n",
    "    while True:\n",
    "        t = np.random.permutation(folder_list)\n",
    "        num_batches = len(folder_list)//batch_size# calculate the number of batches\n",
    "        for batch in range(num_batches): # we iterate over the number of batches\n",
    "            yield load_batch_data(source_path, folder_list, batch_size, t, batch) #you yield the batch_data and the batch_labels, remember what does yield do\n",
    "\n",
    "        \n",
    "        # code for the remaining data points which are left after full batches\n",
    "        if (len(folder_list) != batch_size*num_batches):\n",
    "            batch_size = len(folder_list) - (batch_size*num_batches)\n",
    "            yield load_batch_data(source_path, folder_list, batch_size, t, batch)\n"
   ]
  },
  {
   "cell_type": "markdown",
   "metadata": {
    "colab_type": "text",
    "id": "HGmzKKC3ILhq"
   },
   "source": [
    "Note here that a video is represented above in the generator as (number of images, height, width, number of channels). Take this into consideration while creating the model architecture."
   ]
  },
  {
   "cell_type": "code",
   "execution_count": 10,
   "metadata": {
    "colab": {
     "base_uri": "https://localhost:8080/",
     "height": 67
    },
    "colab_type": "code",
    "id": "-aPY7x2ZILhr",
    "outputId": "f77abcf8-520b-43af-b940-a456e3d72ea7"
   },
   "outputs": [
    {
     "name": "stdout",
     "output_type": "stream",
     "text": [
      "# training sequences = 663\n",
      "# validation sequences = 100\n",
      "# epochs = 50\n"
     ]
    }
   ],
   "source": [
    "curr_dt_time = datetime.datetime.now()\n",
    "train_path = '../content/gdrive/My Drive/Colab Notebooks/Project_data/train'\n",
    "val_path = '../content/gdrive/My Drive/Colab Notebooks/Project_data/val'\n",
    "num_train_sequences = len(train_doc)\n",
    "print('# training sequences =', num_train_sequences)\n",
    "num_val_sequences = len(val_doc)\n",
    "print('# validation sequences =', num_val_sequences)\n",
    "num_epochs = 50 # choose the number of epochs\n",
    "print ('# epochs =', num_epochs)"
   ]
  },
  {
   "cell_type": "markdown",
   "metadata": {
    "colab_type": "text",
    "id": "yZ_YQsNbILhv"
   },
   "source": [
    "## Model\n"
   ]
  },
  {
   "cell_type": "code",
   "execution_count": 0,
   "metadata": {
    "colab": {},
    "colab_type": "code",
    "id": "rE1NQnnpbvH9"
   },
   "outputs": [],
   "source": [
    "from keras.models import Sequential, Model\n",
    "from keras.layers import Dense, GRU, Flatten, TimeDistributed, Flatten, BatchNormalization, Activation,Dropout\n",
    "from keras.layers.convolutional import Conv3D, MaxPooling3D\n",
    "from keras.callbacks import ModelCheckpoint, ReduceLROnPlateau\n",
    "from keras import optimizers\n",
    "\n",
    "\n",
    "from keras.applications.vgg16 import VGG16\n",
    "from keras.layers import Input\n",
    "from keras.layers.pooling import GlobalAveragePooling2D\n",
    "from keras.layers.recurrent import LSTM\n",
    "from keras.layers.wrappers import TimeDistributed\n",
    "\n",
    "\n",
    "base_model = VGG16(include_top=False, weights='imagenet', input_shape=(img_rows,img_cols,img_channels))\n",
    "x = base_model.output\n",
    "x = Flatten()(x)\n",
    "\n",
    "features = Dense(64, activation='relu')(x)\n",
    "conv_model = Model(inputs=base_model.input, outputs=features)\n",
    "    \n",
    "for layer in base_model.layers:\n",
    "    layer.trainable = False\n",
    "        \n",
    "model = Sequential()\n",
    "model.add(TimeDistributed(conv_model, input_shape=(img_frms,img_rows,img_cols,img_channels)))\n",
    "model.add(GRU(32, return_sequences=True))\n",
    "model.add(GRU(16))\n",
    "model.add(Dropout(0.5))\n",
    "model.add(Dense(8, activation='relu'))\n",
    "model.add(Dense(5, activation='softmax'))"
   ]
  },
  {
   "cell_type": "code",
   "execution_count": 33,
   "metadata": {
    "colab": {
     "base_uri": "https://localhost:8080/",
     "height": 370
    },
    "colab_type": "code",
    "id": "-xYAQRV6c-ZS",
    "outputId": "d624df6a-d637-4173-d14e-55d635484ef0"
   },
   "outputs": [
    {
     "name": "stdout",
     "output_type": "stream",
     "text": [
      "Model: \"sequential_4\"\n",
      "_________________________________________________________________\n",
      "Layer (type)                 Output Shape              Param #   \n",
      "=================================================================\n",
      "time_distributed_35 (TimeDis (None, 15, 64)            14845824  \n",
      "_________________________________________________________________\n",
      "gru_2 (GRU)                  (None, 15, 32)            9312      \n",
      "_________________________________________________________________\n",
      "gru_3 (GRU)                  (None, 16)                2352      \n",
      "_________________________________________________________________\n",
      "dropout_4 (Dropout)          (None, 16)                0         \n",
      "_________________________________________________________________\n",
      "dense_7 (Dense)              (None, 8)                 136       \n",
      "_________________________________________________________________\n",
      "dense_8 (Dense)              (None, 5)                 45        \n",
      "=================================================================\n",
      "Total params: 14,857,669\n",
      "Trainable params: 142,981\n",
      "Non-trainable params: 14,714,688\n",
      "_________________________________________________________________\n",
      "None\n"
     ]
    }
   ],
   "source": [
    "optimiser = optimizers.Adam()\n",
    "model.compile(optimizer=optimiser, loss='categorical_crossentropy', metrics=['categorical_accuracy'])\n",
    "print (model.summary())"
   ]
  },
  {
   "cell_type": "markdown",
   "metadata": {
    "colab_type": "text",
    "id": "QoM8ja12ILh6"
   },
   "source": [
    "Let us create the `train_generator` and the `val_generator` which will be used in `.fit_generator`."
   ]
  },
  {
   "cell_type": "code",
   "execution_count": 0,
   "metadata": {
    "colab": {},
    "colab_type": "code",
    "id": "7XJA07KNILh7"
   },
   "outputs": [],
   "source": [
    "train_generator = generator(train_path, train_doc, train_batch_size)\n",
    "val_generator = generator(val_path, val_doc, valid_batch_size)"
   ]
  },
  {
   "cell_type": "code",
   "execution_count": 0,
   "metadata": {
    "colab": {},
    "colab_type": "code",
    "id": "fnAmNxDIILh9"
   },
   "outputs": [],
   "source": [
    "model_name = '../content/gdrive/My Drive/Colab Notebooks/'+'model_init' + '_' + str(curr_dt_time).replace(' ','').replace(':','_') + '/'\n",
    "    \n",
    "if not os.path.exists(model_name):\n",
    "    os.mkdir(model_name)\n",
    "        \n",
    "filepath = model_name + 'model-{epoch:05d}-{loss:.5f}-{categorical_accuracy:.5f}-{val_loss:.5f}-{val_categorical_accuracy:.5f}.h5'\n",
    "\n",
    "checkpoint = ModelCheckpoint(filepath, monitor='val_loss', verbose=1, save_best_only=False, save_weights_only=False, mode='auto', period=1)\n",
    "\n",
    "LR = ReduceLROnPlateau(monitor='val_loss', factor=0.5, patience=4, cooldown=1, verbose=1)\n",
    "callbacks_list = [checkpoint, LR]"
   ]
  },
  {
   "cell_type": "markdown",
   "metadata": {
    "colab_type": "text",
    "id": "Fyn1Zoi7ILiA"
   },
   "source": [
    "The `steps_per_epoch` and `validation_steps` are used by `fit_generator` to decide the number of next() calls it need to make."
   ]
  },
  {
   "cell_type": "code",
   "execution_count": 0,
   "metadata": {
    "colab": {},
    "colab_type": "code",
    "id": "LbYSRHk7Lv5P"
   },
   "outputs": [],
   "source": [
    "\n",
    "if (num_train_sequences%train_batch_size) == 0:\n",
    "    steps_per_epoch = int(num_train_sequences/train_batch_size)\n",
    "else:\n",
    "    steps_per_epoch = (num_train_sequences//train_batch_size) + 1\n",
    "\n",
    "if (num_val_sequences%valid_batch_size) == 0:\n",
    "    validation_steps = int(num_val_sequences/valid_batch_size)\n",
    "else:\n",
    "    validation_steps = (num_val_sequences//valid_batch_size) + 1"
   ]
  },
  {
   "cell_type": "markdown",
   "metadata": {
    "colab_type": "text",
    "id": "828vxxFeILiE"
   },
   "source": [
    "Let us now fit the model. This will start training the model and with the help of the checkpoints, you'll be able to save the model at the end of each epoch."
   ]
  },
  {
   "cell_type": "code",
   "execution_count": 41,
   "metadata": {
    "colab": {
     "base_uri": "https://localhost:8080/",
     "height": 1000
    },
    "colab_type": "code",
    "id": "VReYDflS6bpd",
    "outputId": "c62589e1-f365-4e63-a21a-60fa257fae3a"
   },
   "outputs": [
    {
     "name": "stdout",
     "output_type": "stream",
     "text": [
      "Epoch 1/50\n",
      "Source path =  ../content/gdrive/My Drive/Colab Notebooks/Project_data/train ; batch size = 16\n",
      "Source path =  ../content/gdrive/My Drive/Colab Notebooks/Project_data/val ; batch size = 16\n",
      "42/42 [==============================] - 69s 2s/step - loss: 1.5471 - categorical_accuracy: 0.2881 - val_loss: 1.4694 - val_categorical_accuracy: 0.2700\n",
      "\n",
      "Epoch 00001: saving model to ../content/gdrive/My Drive/Colab Notebooks/model_init_2019-10-0718_14_20.477640/model-00001-1.55001-0.28808-1.46937-0.27000.h5\n",
      "Epoch 2/50\n",
      "42/42 [==============================] - 26s 620ms/step - loss: 1.4879 - categorical_accuracy: 0.3469 - val_loss: 1.3470 - val_categorical_accuracy: 0.4643\n",
      "\n",
      "Epoch 00002: saving model to ../content/gdrive/My Drive/Colab Notebooks/model_init_2019-10-0718_14_20.477640/model-00002-1.48795-0.34694-1.34705-0.46429.h5\n",
      "Epoch 3/50\n",
      "42/42 [==============================] - 30s 712ms/step - loss: 1.4350 - categorical_accuracy: 0.3878 - val_loss: 1.3095 - val_categorical_accuracy: 0.5714\n",
      "\n",
      "Epoch 00003: saving model to ../content/gdrive/My Drive/Colab Notebooks/model_init_2019-10-0718_14_20.477640/model-00003-1.43497-0.38776-1.30951-0.57143.h5\n",
      "Epoch 4/50\n",
      "42/42 [==============================] - 24s 578ms/step - loss: 1.3142 - categorical_accuracy: 0.4538 - val_loss: 1.1679 - val_categorical_accuracy: 0.6786\n",
      "\n",
      "Epoch 00004: saving model to ../content/gdrive/My Drive/Colab Notebooks/model_init_2019-10-0718_14_20.477640/model-00004-1.31455-0.45652-1.16793-0.67857.h5\n",
      "Epoch 5/50\n",
      "42/42 [==============================] - 23s 555ms/step - loss: 1.2439 - categorical_accuracy: 0.5238 - val_loss: 1.1886 - val_categorical_accuracy: 0.6429\n",
      "\n",
      "Epoch 00005: saving model to ../content/gdrive/My Drive/Colab Notebooks/model_init_2019-10-0718_14_20.477640/model-00005-1.24395-0.52381-1.18856-0.64286.h5\n",
      "Epoch 6/50\n",
      "42/42 [==============================] - 22s 535ms/step - loss: 1.2553 - categorical_accuracy: 0.4810 - val_loss: 1.1624 - val_categorical_accuracy: 0.4643\n",
      "\n",
      "Epoch 00006: saving model to ../content/gdrive/My Drive/Colab Notebooks/model_init_2019-10-0718_14_20.477640/model-00006-1.25525-0.48095-1.16244-0.46429.h5\n",
      "Epoch 7/50\n",
      "42/42 [==============================] - 17s 410ms/step - loss: 1.1923 - categorical_accuracy: 0.5771 - val_loss: 1.3656 - val_categorical_accuracy: 0.5714\n",
      "\n",
      "Epoch 00007: saving model to ../content/gdrive/My Drive/Colab Notebooks/model_init_2019-10-0718_14_20.477640/model-00007-1.21851-0.55000-1.36561-0.57143.h5\n",
      "Epoch 8/50\n",
      "42/42 [==============================] - 15s 362ms/step - loss: 1.2038 - categorical_accuracy: 0.5000 - val_loss: 1.3389 - val_categorical_accuracy: 0.3929\n",
      "\n",
      "Epoch 00008: saving model to ../content/gdrive/My Drive/Colab Notebooks/model_init_2019-10-0718_14_20.477640/model-00008-1.20378-0.50000-1.33889-0.39286.h5\n",
      "Epoch 9/50\n",
      "42/42 [==============================] - 15s 354ms/step - loss: 1.2154 - categorical_accuracy: 0.5397 - val_loss: 1.2771 - val_categorical_accuracy: 0.4643\n",
      "\n",
      "Epoch 00009: saving model to ../content/gdrive/My Drive/Colab Notebooks/model_init_2019-10-0718_14_20.477640/model-00009-1.21541-0.53968-1.27707-0.46429.h5\n",
      "Epoch 10/50\n",
      "42/42 [==============================] - 15s 352ms/step - loss: 1.1913 - categorical_accuracy: 0.5238 - val_loss: 1.1338 - val_categorical_accuracy: 0.6786\n",
      "\n",
      "Epoch 00010: saving model to ../content/gdrive/My Drive/Colab Notebooks/model_init_2019-10-0718_14_20.477640/model-00010-1.19128-0.52381-1.13378-0.67857.h5\n",
      "Epoch 11/50\n",
      "42/42 [==============================] - 15s 353ms/step - loss: 1.0208 - categorical_accuracy: 0.6349 - val_loss: 1.0164 - val_categorical_accuracy: 0.6071\n",
      "\n",
      "Epoch 00011: saving model to ../content/gdrive/My Drive/Colab Notebooks/model_init_2019-10-0718_14_20.477640/model-00011-1.02075-0.63492-1.01638-0.60714.h5\n",
      "Epoch 12/50\n",
      "42/42 [==============================] - 16s 383ms/step - loss: 0.9015 - categorical_accuracy: 0.7222 - val_loss: 1.0160 - val_categorical_accuracy: 0.6429\n",
      "\n",
      "Epoch 00012: saving model to ../content/gdrive/My Drive/Colab Notebooks/model_init_2019-10-0718_14_20.477640/model-00012-0.90154-0.72222-1.01596-0.64286.h5\n",
      "Epoch 13/50\n",
      "42/42 [==============================] - 15s 356ms/step - loss: 0.9517 - categorical_accuracy: 0.6429 - val_loss: 0.8893 - val_categorical_accuracy: 0.6786\n",
      "\n",
      "Epoch 00013: saving model to ../content/gdrive/My Drive/Colab Notebooks/model_init_2019-10-0718_14_20.477640/model-00013-0.95165-0.64286-0.88933-0.67857.h5\n",
      "Epoch 14/50\n",
      "42/42 [==============================] - 15s 347ms/step - loss: 1.1414 - categorical_accuracy: 0.5873 - val_loss: 1.0544 - val_categorical_accuracy: 0.7143\n",
      "\n",
      "Epoch 00014: saving model to ../content/gdrive/My Drive/Colab Notebooks/model_init_2019-10-0718_14_20.477640/model-00014-1.14139-0.58730-1.05436-0.71429.h5\n",
      "Epoch 15/50\n",
      "42/42 [==============================] - 15s 365ms/step - loss: 1.1368 - categorical_accuracy: 0.5714 - val_loss: 1.1643 - val_categorical_accuracy: 0.5714\n",
      "\n",
      "Epoch 00015: saving model to ../content/gdrive/My Drive/Colab Notebooks/model_init_2019-10-0718_14_20.477640/model-00015-1.13679-0.57143-1.16430-0.57143.h5\n",
      "Epoch 16/50\n",
      "42/42 [==============================] - 15s 351ms/step - loss: 0.9876 - categorical_accuracy: 0.5873 - val_loss: 1.2040 - val_categorical_accuracy: 0.5714\n",
      "\n",
      "Epoch 00016: saving model to ../content/gdrive/My Drive/Colab Notebooks/model_init_2019-10-0718_14_20.477640/model-00016-0.98765-0.58730-1.20405-0.57143.h5\n",
      "Epoch 17/50\n",
      "42/42 [==============================] - 15s 357ms/step - loss: 0.9752 - categorical_accuracy: 0.6825 - val_loss: 1.1293 - val_categorical_accuracy: 0.5714\n",
      "\n",
      "Epoch 00017: saving model to ../content/gdrive/My Drive/Colab Notebooks/model_init_2019-10-0718_14_20.477640/model-00017-0.97515-0.68254-1.12932-0.57143.h5\n",
      "\n",
      "Epoch 00017: ReduceLROnPlateau reducing learning rate to 0.0005000000237487257.\n",
      "Epoch 18/50\n",
      "42/42 [==============================] - 15s 349ms/step - loss: 0.9100 - categorical_accuracy: 0.6587 - val_loss: 0.7030 - val_categorical_accuracy: 0.8214\n",
      "\n",
      "Epoch 00018: saving model to ../content/gdrive/My Drive/Colab Notebooks/model_init_2019-10-0718_14_20.477640/model-00018-0.91001-0.65873-0.70297-0.82143.h5\n",
      "Epoch 19/50\n",
      "42/42 [==============================] - 15s 369ms/step - loss: 0.9157 - categorical_accuracy: 0.6508 - val_loss: 1.2371 - val_categorical_accuracy: 0.6071\n",
      "\n",
      "Epoch 00019: saving model to ../content/gdrive/My Drive/Colab Notebooks/model_init_2019-10-0718_14_20.477640/model-00019-0.91574-0.65079-1.23709-0.60714.h5\n",
      "Epoch 20/50\n",
      "42/42 [==============================] - 15s 356ms/step - loss: 0.7342 - categorical_accuracy: 0.7540 - val_loss: 0.8730 - val_categorical_accuracy: 0.6429\n",
      "\n",
      "Epoch 00020: saving model to ../content/gdrive/My Drive/Colab Notebooks/model_init_2019-10-0718_14_20.477640/model-00020-0.73425-0.75397-0.87299-0.64286.h5\n",
      "Epoch 21/50\n",
      "42/42 [==============================] - 15s 349ms/step - loss: 0.6902 - categorical_accuracy: 0.7540 - val_loss: 0.9551 - val_categorical_accuracy: 0.6429\n",
      "\n",
      "Epoch 00021: saving model to ../content/gdrive/My Drive/Colab Notebooks/model_init_2019-10-0718_14_20.477640/model-00021-0.69020-0.75397-0.95508-0.64286.h5\n",
      "Epoch 22/50\n",
      "42/42 [==============================] - 15s 348ms/step - loss: 0.8038 - categorical_accuracy: 0.7222 - val_loss: 1.0199 - val_categorical_accuracy: 0.6786\n",
      "\n",
      "Epoch 00022: saving model to ../content/gdrive/My Drive/Colab Notebooks/model_init_2019-10-0718_14_20.477640/model-00022-0.80379-0.72222-1.01986-0.67857.h5\n",
      "\n",
      "Epoch 00022: ReduceLROnPlateau reducing learning rate to 0.0002500000118743628.\n",
      "Epoch 23/50\n",
      "42/42 [==============================] - 15s 363ms/step - loss: 0.6720 - categorical_accuracy: 0.7540 - val_loss: 0.9255 - val_categorical_accuracy: 0.6429\n",
      "\n",
      "Epoch 00023: saving model to ../content/gdrive/My Drive/Colab Notebooks/model_init_2019-10-0718_14_20.477640/model-00023-0.67201-0.75397-0.92548-0.64286.h5\n",
      "Epoch 24/50\n",
      "42/42 [==============================] - 15s 358ms/step - loss: 0.6095 - categorical_accuracy: 0.8254 - val_loss: 0.6058 - val_categorical_accuracy: 0.8929\n",
      "\n",
      "Epoch 00024: saving model to ../content/gdrive/My Drive/Colab Notebooks/model_init_2019-10-0718_14_20.477640/model-00024-0.60946-0.82540-0.60584-0.89286.h5\n",
      "Epoch 25/50\n",
      "42/42 [==============================] - 15s 355ms/step - loss: 0.7486 - categorical_accuracy: 0.7619 - val_loss: 1.1764 - val_categorical_accuracy: 0.4643\n",
      "\n",
      "Epoch 00025: saving model to ../content/gdrive/My Drive/Colab Notebooks/model_init_2019-10-0718_14_20.477640/model-00025-0.74862-0.76190-1.17644-0.46429.h5\n",
      "Epoch 26/50\n",
      "42/42 [==============================] - 15s 351ms/step - loss: 0.6354 - categorical_accuracy: 0.8016 - val_loss: 1.1232 - val_categorical_accuracy: 0.6071\n",
      "\n",
      "Epoch 00026: saving model to ../content/gdrive/My Drive/Colab Notebooks/model_init_2019-10-0718_14_20.477640/model-00026-0.63538-0.80159-1.12318-0.60714.h5\n",
      "Epoch 27/50\n",
      "42/42 [==============================] - 15s 359ms/step - loss: 0.5941 - categorical_accuracy: 0.7857 - val_loss: 0.9205 - val_categorical_accuracy: 0.6786\n",
      "\n",
      "Epoch 00027: saving model to ../content/gdrive/My Drive/Colab Notebooks/model_init_2019-10-0718_14_20.477640/model-00027-0.59411-0.78571-0.92048-0.67857.h5\n",
      "Epoch 28/50\n",
      "42/42 [==============================] - 15s 350ms/step - loss: 0.6575 - categorical_accuracy: 0.8016 - val_loss: 0.8429 - val_categorical_accuracy: 0.6429\n",
      "\n",
      "Epoch 00028: saving model to ../content/gdrive/My Drive/Colab Notebooks/model_init_2019-10-0718_14_20.477640/model-00028-0.65753-0.80159-0.84293-0.64286.h5\n",
      "\n",
      "Epoch 00028: ReduceLROnPlateau reducing learning rate to 0.0001250000059371814.\n",
      "Epoch 29/50\n",
      "42/42 [==============================] - 15s 366ms/step - loss: 0.6741 - categorical_accuracy: 0.7619 - val_loss: 0.7918 - val_categorical_accuracy: 0.7500\n",
      "\n",
      "Epoch 00029: saving model to ../content/gdrive/My Drive/Colab Notebooks/model_init_2019-10-0718_14_20.477640/model-00029-0.67414-0.76190-0.79178-0.75000.h5\n",
      "Epoch 30/50\n",
      "42/42 [==============================] - 15s 356ms/step - loss: 0.6097 - categorical_accuracy: 0.8016 - val_loss: 0.9717 - val_categorical_accuracy: 0.6786\n",
      "\n",
      "Epoch 00030: saving model to ../content/gdrive/My Drive/Colab Notebooks/model_init_2019-10-0718_14_20.477640/model-00030-0.60974-0.80159-0.97173-0.67857.h5\n",
      "Epoch 31/50\n",
      "42/42 [==============================] - 15s 359ms/step - loss: 0.6644 - categorical_accuracy: 0.8254 - val_loss: 0.7785 - val_categorical_accuracy: 0.7500\n",
      "\n",
      "Epoch 00031: saving model to ../content/gdrive/My Drive/Colab Notebooks/model_init_2019-10-0718_14_20.477640/model-00031-0.66439-0.82540-0.77847-0.75000.h5\n",
      "Epoch 32/50\n",
      "42/42 [==============================] - 15s 368ms/step - loss: 0.6293 - categorical_accuracy: 0.8016 - val_loss: 1.0131 - val_categorical_accuracy: 0.6786\n",
      "\n",
      "Epoch 00032: saving model to ../content/gdrive/My Drive/Colab Notebooks/model_init_2019-10-0718_14_20.477640/model-00032-0.62926-0.80159-1.01311-0.67857.h5\n",
      "\n",
      "Epoch 00032: ReduceLROnPlateau reducing learning rate to 6.25000029685907e-05.\n",
      "Epoch 33/50\n",
      "42/42 [==============================] - 14s 345ms/step - loss: 0.6922 - categorical_accuracy: 0.8095 - val_loss: 1.0196 - val_categorical_accuracy: 0.5714\n",
      "\n",
      "Epoch 00033: saving model to ../content/gdrive/My Drive/Colab Notebooks/model_init_2019-10-0718_14_20.477640/model-00033-0.69220-0.80952-1.01962-0.57143.h5\n",
      "Epoch 34/50\n",
      "42/42 [==============================] - 15s 364ms/step - loss: 0.7131 - categorical_accuracy: 0.8016 - val_loss: 1.0042 - val_categorical_accuracy: 0.7143\n",
      "\n",
      "Epoch 00034: saving model to ../content/gdrive/My Drive/Colab Notebooks/model_init_2019-10-0718_14_20.477640/model-00034-0.71307-0.80159-1.00417-0.71429.h5\n",
      "Epoch 35/50\n",
      "42/42 [==============================] - 15s 350ms/step - loss: 0.6858 - categorical_accuracy: 0.7540 - val_loss: 0.9343 - val_categorical_accuracy: 0.6071\n",
      "\n",
      "Epoch 00035: saving model to ../content/gdrive/My Drive/Colab Notebooks/model_init_2019-10-0718_14_20.477640/model-00035-0.68578-0.75397-0.93432-0.60714.h5\n",
      "Epoch 36/50\n",
      "42/42 [==============================] - 15s 362ms/step - loss: 0.5671 - categorical_accuracy: 0.8413 - val_loss: 0.8014 - val_categorical_accuracy: 0.7143\n",
      "\n",
      "Epoch 00036: saving model to ../content/gdrive/My Drive/Colab Notebooks/model_init_2019-10-0718_14_20.477640/model-00036-0.56712-0.84127-0.80144-0.71429.h5\n",
      "\n",
      "Epoch 00036: ReduceLROnPlateau reducing learning rate to 3.125000148429535e-05.\n",
      "Epoch 37/50\n",
      "42/42 [==============================] - 15s 357ms/step - loss: 0.5567 - categorical_accuracy: 0.8333 - val_loss: 0.9805 - val_categorical_accuracy: 0.7500\n",
      "\n",
      "Epoch 00037: saving model to ../content/gdrive/My Drive/Colab Notebooks/model_init_2019-10-0718_14_20.477640/model-00037-0.55673-0.83333-0.98051-0.75000.h5\n",
      "Epoch 38/50\n",
      "42/42 [==============================] - 14s 337ms/step - loss: 0.5263 - categorical_accuracy: 0.8651 - val_loss: 0.8090 - val_categorical_accuracy: 0.7143\n",
      "\n",
      "Epoch 00038: saving model to ../content/gdrive/My Drive/Colab Notebooks/model_init_2019-10-0718_14_20.477640/model-00038-0.52632-0.86508-0.80896-0.71429.h5\n",
      "Epoch 39/50\n",
      "42/42 [==============================] - 15s 353ms/step - loss: 0.5702 - categorical_accuracy: 0.7937 - val_loss: 0.9359 - val_categorical_accuracy: 0.6786\n",
      "\n",
      "Epoch 00039: saving model to ../content/gdrive/My Drive/Colab Notebooks/model_init_2019-10-0718_14_20.477640/model-00039-0.57023-0.79365-0.93587-0.67857.h5\n",
      "Epoch 40/50\n",
      "42/42 [==============================] - 15s 362ms/step - loss: 0.6400 - categorical_accuracy: 0.8333 - val_loss: 1.0083 - val_categorical_accuracy: 0.6071\n",
      "\n",
      "Epoch 00040: saving model to ../content/gdrive/My Drive/Colab Notebooks/model_init_2019-10-0718_14_20.477640/model-00040-0.63999-0.83333-1.00827-0.60714.h5\n",
      "\n",
      "Epoch 00040: ReduceLROnPlateau reducing learning rate to 1.5625000742147677e-05.\n",
      "Epoch 41/50\n",
      "42/42 [==============================] - 15s 351ms/step - loss: 0.5766 - categorical_accuracy: 0.8175 - val_loss: 0.8691 - val_categorical_accuracy: 0.6786\n",
      "\n",
      "Epoch 00041: saving model to ../content/gdrive/My Drive/Colab Notebooks/model_init_2019-10-0718_14_20.477640/model-00041-0.57661-0.81746-0.86907-0.67857.h5\n",
      "Epoch 42/50\n",
      "42/42 [==============================] - 15s 357ms/step - loss: 0.5767 - categorical_accuracy: 0.9048 - val_loss: 0.7874 - val_categorical_accuracy: 0.7500\n",
      "\n",
      "Epoch 00042: saving model to ../content/gdrive/My Drive/Colab Notebooks/model_init_2019-10-0718_14_20.477640/model-00042-0.57666-0.90476-0.78745-0.75000.h5\n",
      "Epoch 43/50\n",
      "42/42 [==============================] - 15s 350ms/step - loss: 0.5085 - categorical_accuracy: 0.8730 - val_loss: 1.0490 - val_categorical_accuracy: 0.6429\n",
      "\n",
      "Epoch 00043: saving model to ../content/gdrive/My Drive/Colab Notebooks/model_init_2019-10-0718_14_20.477640/model-00043-0.50849-0.87302-1.04902-0.64286.h5\n",
      "Epoch 44/50\n",
      "42/42 [==============================] - 15s 359ms/step - loss: 0.5181 - categorical_accuracy: 0.8810 - val_loss: 0.9777 - val_categorical_accuracy: 0.6429\n",
      "\n",
      "Epoch 00044: saving model to ../content/gdrive/My Drive/Colab Notebooks/model_init_2019-10-0718_14_20.477640/model-00044-0.51807-0.88095-0.97772-0.64286.h5\n",
      "\n",
      "Epoch 00044: ReduceLROnPlateau reducing learning rate to 7.812500371073838e-06.\n",
      "Epoch 45/50\n",
      "42/42 [==============================] - 15s 356ms/step - loss: 0.6178 - categorical_accuracy: 0.7778 - val_loss: 1.1051 - val_categorical_accuracy: 0.5714\n",
      "\n",
      "Epoch 00045: saving model to ../content/gdrive/My Drive/Colab Notebooks/model_init_2019-10-0718_14_20.477640/model-00045-0.61776-0.77778-1.10514-0.57143.h5\n",
      "Epoch 46/50\n",
      "42/42 [==============================] - 15s 350ms/step - loss: 0.5825 - categorical_accuracy: 0.8333 - val_loss: 0.9076 - val_categorical_accuracy: 0.7143\n",
      "\n",
      "Epoch 00046: saving model to ../content/gdrive/My Drive/Colab Notebooks/model_init_2019-10-0718_14_20.477640/model-00046-0.58245-0.83333-0.90756-0.71429.h5\n",
      "Epoch 47/50\n",
      "42/42 [==============================] - 15s 361ms/step - loss: 0.5778 - categorical_accuracy: 0.8333 - val_loss: 0.7089 - val_categorical_accuracy: 0.7857\n",
      "\n",
      "Epoch 00047: saving model to ../content/gdrive/My Drive/Colab Notebooks/model_init_2019-10-0718_14_20.477640/model-00047-0.57780-0.83333-0.70893-0.78571.h5\n",
      "Epoch 48/50\n",
      "42/42 [==============================] - 15s 362ms/step - loss: 0.6007 - categorical_accuracy: 0.8095 - val_loss: 0.8777 - val_categorical_accuracy: 0.7143\n",
      "\n",
      "Epoch 00048: saving model to ../content/gdrive/My Drive/Colab Notebooks/model_init_2019-10-0718_14_20.477640/model-00048-0.60067-0.80952-0.87773-0.71429.h5\n",
      "\n",
      "Epoch 00048: ReduceLROnPlateau reducing learning rate to 3.906250185536919e-06.\n",
      "Epoch 49/50\n",
      "42/42 [==============================] - 15s 357ms/step - loss: 0.5676 - categorical_accuracy: 0.8651 - val_loss: 1.2048 - val_categorical_accuracy: 0.6429\n",
      "\n",
      "Epoch 00049: saving model to ../content/gdrive/My Drive/Colab Notebooks/model_init_2019-10-0718_14_20.477640/model-00049-0.56759-0.86508-1.20484-0.64286.h5\n",
      "Epoch 50/50\n",
      "42/42 [==============================] - 15s 362ms/step - loss: 0.5367 - categorical_accuracy: 0.8175 - val_loss: 0.8734 - val_categorical_accuracy: 0.6071\n",
      "\n",
      "Epoch 00050: saving model to ../content/gdrive/My Drive/Colab Notebooks/model_init_2019-10-0718_14_20.477640/model-00050-0.53674-0.81746-0.87339-0.60714.h5\n"
     ]
    }
   ],
   "source": [
    "hist = model.fit_generator(train_generator, steps_per_epoch=steps_per_epoch, epochs=num_epochs, verbose=1, \n",
    "                    callbacks=callbacks_list, validation_data=val_generator, \n",
    "                    validation_steps=validation_steps, class_weight=None, workers=1, initial_epoch=0)"
   ]
  },
  {
   "cell_type": "code",
   "execution_count": 18,
   "metadata": {
    "colab": {
     "base_uri": "https://localhost:8080/",
     "height": 324
    },
    "colab_type": "code",
    "id": "UfnwtZ6M7cFd",
    "outputId": "de61fa33-ae7c-4160-aeb0-2f625c581346"
   },
   "outputs": [
    {
     "data": {
      "image/png": "[encoded data removed]",
      "text/plain": [
       "<Figure size 576x360 with 1 Axes>"
      ]
     },
     "metadata": {
      "tags": []
     },
     "output_type": "display_data"
    }
   ],
   "source": [
    "import pandas as pd\n",
    "pd.DataFrame(hist.history).plot(figsize = (8,5))\n",
    "plt.grid(True)\n",
    "plt.gca().set_ylim(0,1)\n",
    "plt.show()"
   ]
  },
  {
   "cell_type": "code",
   "execution_count": 0,
   "metadata": {
    "colab": {},
    "colab_type": "code",
    "id": "SkQqHvNbsmhN"
   },
   "outputs": [],
   "source": [
    "#Model 2 Customised LSTM\n",
    "\n",
    "input_shape=(img_frms,img_rows,img_cols,img_channels)\n",
    "\n",
    "model = Sequential()\n",
    "\n",
    "model.add(TimeDistributed(Conv2D(16, (3, 3),\n",
    "    activation='relu', padding='same'), input_shape=input_shape))\n",
    "model.add(TimeDistributed(Conv2D(16, (3,3),\n",
    "    kernel_initializer=\"he_normal\", activation='relu')))\n",
    "model.add(TimeDistributed(MaxPooling2D((2, 2))))\n",
    "\n",
    "model.add(TimeDistributed(Conv2D(32, (3,3),\n",
    "    padding='same', activation='relu')))\n",
    "model.add(TimeDistributed(Conv2D(32, (3,3),\n",
    "    padding='same', activation='relu')))\n",
    "model.add(TimeDistributed(MaxPooling2D((2, 2))))\n",
    "\n",
    "model.add(TimeDistributed(Conv2D(64, (3,3),\n",
    "    padding='same', activation='relu')))\n",
    "model.add(TimeDistributed(Conv2D(64, (3,3),\n",
    "    padding='same', activation='relu')))\n",
    "model.add(TimeDistributed(MaxPooling2D((2, 2))))\n",
    "\n",
    "model.add(TimeDistributed(Flatten()))\n",
    "\n",
    "model.add(Dropout(0.5))\n",
    "model.add(LSTM(128, return_sequences=False, dropout=0.5))\n",
    "\n",
    "model.add(Dense(nb_classes, activation='softmax'))"
   ]
  },
  {
   "cell_type": "code",
   "execution_count": 24,
   "metadata": {
    "colab": {
     "base_uri": "https://localhost:8080/",
     "height": 605
    },
    "colab_type": "code",
    "id": "bE1lydq6tqdK",
    "outputId": "a99f06d6-b7c8-44db-97da-f246a2f04adc"
   },
   "outputs": [
    {
     "name": "stdout",
     "output_type": "stream",
     "text": [
      "Model: \"sequential_2\"\n",
      "_________________________________________________________________\n",
      "Layer (type)                 Output Shape              Param #   \n",
      "=================================================================\n",
      "time_distributed_15 (TimeDis (None, 15, 80, 80, 16)    448       \n",
      "_________________________________________________________________\n",
      "time_distributed_16 (TimeDis (None, 15, 78, 78, 16)    2320      \n",
      "_________________________________________________________________\n",
      "time_distributed_17 (TimeDis (None, 15, 39, 39, 16)    0         \n",
      "_________________________________________________________________\n",
      "time_distributed_18 (TimeDis (None, 15, 39, 39, 32)    4640      \n",
      "_________________________________________________________________\n",
      "time_distributed_19 (TimeDis (None, 15, 39, 39, 32)    9248      \n",
      "_________________________________________________________________\n",
      "time_distributed_20 (TimeDis (None, 15, 19, 19, 32)    0         \n",
      "_________________________________________________________________\n",
      "time_distributed_21 (TimeDis (None, 15, 19, 19, 64)    18496     \n",
      "_________________________________________________________________\n",
      "time_distributed_22 (TimeDis (None, 15, 19, 19, 64)    36928     \n",
      "_________________________________________________________________\n",
      "time_distributed_23 (TimeDis (None, 15, 9, 9, 64)      0         \n",
      "_________________________________________________________________\n",
      "time_distributed_24 (TimeDis (None, 15, 5184)          0         \n",
      "_________________________________________________________________\n",
      "dropout_2 (Dropout)          (None, 15, 5184)          0         \n",
      "_________________________________________________________________\n",
      "lstm_3 (LSTM)                (None, 128)               2720256   \n",
      "_________________________________________________________________\n",
      "dense_4 (Dense)              (None, 5)                 645       \n",
      "=================================================================\n",
      "Total params: 2,792,981\n",
      "Trainable params: 2,792,981\n",
      "Non-trainable params: 0\n",
      "_________________________________________________________________\n",
      "None\n"
     ]
    }
   ],
   "source": [
    "optimiser = optimizers.Adam()#write your optimizer\n",
    "model.compile(optimizer=optimiser, loss='categorical_crossentropy', metrics=['categorical_accuracy'])\n",
    "print (model.summary())"
   ]
  },
  {
   "cell_type": "code",
   "execution_count": 0,
   "metadata": {
    "colab": {},
    "colab_type": "code",
    "id": "FskX15Xytu0L"
   },
   "outputs": [],
   "source": [
    "train_generator = generator(train_path, train_doc, train_batch_size)\n",
    "val_generator = generator(val_path, val_doc, valid_batch_size)"
   ]
  },
  {
   "cell_type": "code",
   "execution_count": 26,
   "metadata": {
    "colab": {
     "base_uri": "https://localhost:8080/",
     "height": 1000
    },
    "colab_type": "code",
    "id": "UBzZ9xOHuLye",
    "outputId": "218f184b-61e9-4837-94a0-1fcbb9f45f97"
   },
   "outputs": [
    {
     "name": "stdout",
     "output_type": "stream",
     "text": [
      "Epoch 1/50\n",
      "Source path =  ../content/gdrive/My Drive/Colab Notebooks/Project_data/val ; batch size =Source path =   16../content/gdrive/My Drive/Colab Notebooks/Project_data/train\n",
      " ; batch size = 16\n",
      "42/42 [==============================] - 67s 2s/step - loss: 1.5671 - categorical_accuracy: 0.2810 - val_loss: 1.3769 - val_categorical_accuracy: 0.4500\n",
      "\n",
      "Epoch 00001: saving model to ../content/gdrive/My Drive/Colab Notebooks/model_init_2019-10-0718_14_20.477640/model-00001-1.57185-0.27903-1.37691-0.45000.h5\n",
      "Epoch 2/50\n",
      "42/42 [==============================] - 25s 590ms/step - loss: 1.4094 - categorical_accuracy: 0.4592 - val_loss: 1.2634 - val_categorical_accuracy: 0.5357\n",
      "\n",
      "Epoch 00002: saving model to ../content/gdrive/My Drive/Colab Notebooks/model_init_2019-10-0718_14_20.477640/model-00002-1.40942-0.45918-1.26345-0.53571.h5\n",
      "Epoch 3/50\n",
      "42/42 [==============================] - 28s 673ms/step - loss: 1.4152 - categorical_accuracy: 0.4388 - val_loss: 1.3340 - val_categorical_accuracy: 0.4643\n",
      "\n",
      "Epoch 00003: saving model to ../content/gdrive/My Drive/Colab Notebooks/model_init_2019-10-0718_14_20.477640/model-00003-1.41524-0.43878-1.33404-0.46429.h5\n",
      "Epoch 4/50\n",
      "42/42 [==============================] - 23s 540ms/step - loss: 1.3276 - categorical_accuracy: 0.4462 - val_loss: 1.2296 - val_categorical_accuracy: 0.6071\n",
      "\n",
      "Epoch 00004: saving model to ../content/gdrive/My Drive/Colab Notebooks/model_init_2019-10-0718_14_20.477640/model-00004-1.33484-0.44348-1.22958-0.60714.h5\n",
      "Epoch 5/50\n",
      "42/42 [==============================] - 21s 505ms/step - loss: 1.2985 - categorical_accuracy: 0.4714 - val_loss: 1.5026 - val_categorical_accuracy: 0.4286\n",
      "\n",
      "Epoch 00005: saving model to ../content/gdrive/My Drive/Colab Notebooks/model_init_2019-10-0718_14_20.477640/model-00005-1.29852-0.47143-1.50255-0.42857.h5\n",
      "Epoch 6/50\n",
      "42/42 [==============================] - 21s 511ms/step - loss: 1.2624 - categorical_accuracy: 0.4857 - val_loss: 1.2380 - val_categorical_accuracy: 0.5357\n",
      "\n",
      "Epoch 00006: saving model to ../content/gdrive/My Drive/Colab Notebooks/model_init_2019-10-0718_14_20.477640/model-00006-1.26240-0.48571-1.23795-0.53571.h5\n",
      "Epoch 7/50\n",
      "42/42 [==============================] - 16s 385ms/step - loss: 1.2707 - categorical_accuracy: 0.4652 - val_loss: 1.1989 - val_categorical_accuracy: 0.5714\n",
      "\n",
      "Epoch 00007: saving model to ../content/gdrive/My Drive/Colab Notebooks/model_init_2019-10-0718_14_20.477640/model-00007-1.26237-0.46875-1.19888-0.57143.h5\n",
      "Epoch 8/50\n",
      "42/42 [==============================] - 15s 352ms/step - loss: 1.2591 - categorical_accuracy: 0.4841 - val_loss: 1.2786 - val_categorical_accuracy: 0.5000\n",
      "\n",
      "Epoch 00008: saving model to ../content/gdrive/My Drive/Colab Notebooks/model_init_2019-10-0718_14_20.477640/model-00008-1.25911-0.48413-1.27864-0.50000.h5\n",
      "Epoch 9/50\n",
      "42/42 [==============================] - 14s 328ms/step - loss: 1.1330 - categorical_accuracy: 0.5159 - val_loss: 1.1992 - val_categorical_accuracy: 0.5714\n",
      "\n",
      "Epoch 00009: saving model to ../content/gdrive/My Drive/Colab Notebooks/model_init_2019-10-0718_14_20.477640/model-00009-1.13304-0.51587-1.19923-0.57143.h5\n",
      "Epoch 10/50\n",
      "42/42 [==============================] - 13s 317ms/step - loss: 1.3159 - categorical_accuracy: 0.4603 - val_loss: 1.1414 - val_categorical_accuracy: 0.6429\n",
      "\n",
      "Epoch 00010: saving model to ../content/gdrive/My Drive/Colab Notebooks/model_init_2019-10-0718_14_20.477640/model-00010-1.31593-0.46032-1.14139-0.64286.h5\n",
      "Epoch 11/50\n",
      "42/42 [==============================] - 14s 334ms/step - loss: 1.1994 - categorical_accuracy: 0.5476 - val_loss: 1.2057 - val_categorical_accuracy: 0.4286\n",
      "\n",
      "Epoch 00011: saving model to ../content/gdrive/My Drive/Colab Notebooks/model_init_2019-10-0718_14_20.477640/model-00011-1.19940-0.54762-1.20567-0.42857.h5\n",
      "Epoch 12/50\n",
      "42/42 [==============================] - 15s 366ms/step - loss: 1.1379 - categorical_accuracy: 0.5476 - val_loss: 1.4145 - val_categorical_accuracy: 0.5357\n",
      "\n",
      "Epoch 00012: saving model to ../content/gdrive/My Drive/Colab Notebooks/model_init_2019-10-0718_14_20.477640/model-00012-1.13785-0.54762-1.41447-0.53571.h5\n",
      "Epoch 13/50\n",
      "42/42 [==============================] - 14s 337ms/step - loss: 1.0488 - categorical_accuracy: 0.5794 - val_loss: 1.3551 - val_categorical_accuracy: 0.4643\n",
      "\n",
      "Epoch 00013: saving model to ../content/gdrive/My Drive/Colab Notebooks/model_init_2019-10-0718_14_20.477640/model-00013-1.04883-0.57937-1.35507-0.46429.h5\n",
      "Epoch 14/50\n",
      "42/42 [==============================] - 13s 321ms/step - loss: 0.9562 - categorical_accuracy: 0.6508 - val_loss: 1.4217 - val_categorical_accuracy: 0.3929\n",
      "\n",
      "Epoch 00014: saving model to ../content/gdrive/My Drive/Colab Notebooks/model_init_2019-10-0718_14_20.477640/model-00014-0.95615-0.65079-1.42170-0.39286.h5\n",
      "\n",
      "Epoch 00014: ReduceLROnPlateau reducing learning rate to 0.0005000000237487257.\n",
      "Epoch 15/50\n",
      "42/42 [==============================] - 13s 317ms/step - loss: 0.9695 - categorical_accuracy: 0.6111 - val_loss: 1.2146 - val_categorical_accuracy: 0.6071\n",
      "\n",
      "Epoch 00015: saving model to ../content/gdrive/My Drive/Colab Notebooks/model_init_2019-10-0718_14_20.477640/model-00015-0.96951-0.61111-1.21462-0.60714.h5\n",
      "Epoch 16/50\n",
      "42/42 [==============================] - 14s 344ms/step - loss: 0.9172 - categorical_accuracy: 0.5873 - val_loss: 1.4090 - val_categorical_accuracy: 0.4643\n",
      "\n",
      "Epoch 00016: saving model to ../content/gdrive/My Drive/Colab Notebooks/model_init_2019-10-0718_14_20.477640/model-00016-0.91722-0.58730-1.40897-0.46429.h5\n",
      "Epoch 17/50\n",
      "42/42 [==============================] - 14s 322ms/step - loss: 1.0355 - categorical_accuracy: 0.6032 - val_loss: 1.0588 - val_categorical_accuracy: 0.6429\n",
      "\n",
      "Epoch 00017: saving model to ../content/gdrive/My Drive/Colab Notebooks/model_init_2019-10-0718_14_20.477640/model-00017-1.03547-0.60317-1.05878-0.64286.h5\n",
      "Epoch 18/50\n",
      "42/42 [==============================] - 13s 321ms/step - loss: 0.6420 - categorical_accuracy: 0.7698 - val_loss: 1.2318 - val_categorical_accuracy: 0.6071\n",
      "\n",
      "Epoch 00018: saving model to ../content/gdrive/My Drive/Colab Notebooks/model_init_2019-10-0718_14_20.477640/model-00018-0.64200-0.76984-1.23176-0.60714.h5\n",
      "Epoch 19/50\n",
      "42/42 [==============================] - 14s 335ms/step - loss: 0.9248 - categorical_accuracy: 0.6349 - val_loss: 0.8660 - val_categorical_accuracy: 0.5357\n",
      "\n",
      "Epoch 00019: saving model to ../content/gdrive/My Drive/Colab Notebooks/model_init_2019-10-0718_14_20.477640/model-00019-0.92482-0.63492-0.86599-0.53571.h5\n",
      "Epoch 20/50\n",
      "42/42 [==============================] - 14s 330ms/step - loss: 0.8431 - categorical_accuracy: 0.6746 - val_loss: 0.9967 - val_categorical_accuracy: 0.6429\n",
      "\n",
      "Epoch 00020: saving model to ../content/gdrive/My Drive/Colab Notebooks/model_init_2019-10-0718_14_20.477640/model-00020-0.84314-0.67460-0.99666-0.64286.h5\n",
      "Epoch 21/50\n",
      "42/42 [==============================] - 14s 340ms/step - loss: 0.7525 - categorical_accuracy: 0.6746 - val_loss: 1.0666 - val_categorical_accuracy: 0.5357\n",
      "\n",
      "Epoch 00021: saving model to ../content/gdrive/My Drive/Colab Notebooks/model_init_2019-10-0718_14_20.477640/model-00021-0.75252-0.67460-1.06657-0.53571.h5\n",
      "Epoch 22/50\n",
      "42/42 [==============================] - 14s 338ms/step - loss: 0.7335 - categorical_accuracy: 0.7222 - val_loss: 1.2487 - val_categorical_accuracy: 0.5000\n",
      "\n",
      "Epoch 00022: saving model to ../content/gdrive/My Drive/Colab Notebooks/model_init_2019-10-0718_14_20.477640/model-00022-0.73345-0.72222-1.24868-0.50000.h5\n",
      "Epoch 23/50\n",
      "42/42 [==============================] - 14s 324ms/step - loss: 0.6515 - categorical_accuracy: 0.7381 - val_loss: 1.5258 - val_categorical_accuracy: 0.3929\n",
      "\n",
      "Epoch 00023: saving model to ../content/gdrive/My Drive/Colab Notebooks/model_init_2019-10-0718_14_20.477640/model-00023-0.65149-0.73810-1.52576-0.39286.h5\n",
      "\n",
      "Epoch 00023: ReduceLROnPlateau reducing learning rate to 0.0002500000118743628.\n",
      "Epoch 24/50\n",
      "42/42 [==============================] - 14s 335ms/step - loss: 0.6828 - categorical_accuracy: 0.7540 - val_loss: 1.3033 - val_categorical_accuracy: 0.5714\n",
      "\n",
      "Epoch 00024: saving model to ../content/gdrive/My Drive/Colab Notebooks/model_init_2019-10-0718_14_20.477640/model-00024-0.68280-0.75397-1.30335-0.57143.h5\n",
      "Epoch 25/50\n",
      "42/42 [==============================] - 14s 327ms/step - loss: 0.3905 - categorical_accuracy: 0.8810 - val_loss: 1.0755 - val_categorical_accuracy: 0.5714\n",
      "\n",
      "Epoch 00025: saving model to ../content/gdrive/My Drive/Colab Notebooks/model_init_2019-10-0718_14_20.477640/model-00025-0.39051-0.88095-1.07547-0.57143.h5\n",
      "Epoch 26/50\n",
      "42/42 [==============================] - 14s 331ms/step - loss: 0.6140 - categorical_accuracy: 0.7698 - val_loss: 1.3440 - val_categorical_accuracy: 0.4286\n",
      "\n",
      "Epoch 00026: saving model to ../content/gdrive/My Drive/Colab Notebooks/model_init_2019-10-0718_14_20.477640/model-00026-0.61403-0.76984-1.34400-0.42857.h5\n",
      "Epoch 27/50\n",
      "42/42 [==============================] - 14s 328ms/step - loss: 0.6889 - categorical_accuracy: 0.7302 - val_loss: 0.9862 - val_categorical_accuracy: 0.5714\n",
      "\n",
      "Epoch 00027: saving model to ../content/gdrive/My Drive/Colab Notebooks/model_init_2019-10-0718_14_20.477640/model-00027-0.68889-0.73016-0.98622-0.57143.h5\n",
      "\n",
      "Epoch 00027: ReduceLROnPlateau reducing learning rate to 0.0001250000059371814.\n",
      "Epoch 28/50\n",
      "42/42 [==============================] - 14s 336ms/step - loss: 0.5644 - categorical_accuracy: 0.7857 - val_loss: 1.2895 - val_categorical_accuracy: 0.5000\n",
      "\n",
      "Epoch 00028: saving model to ../content/gdrive/My Drive/Colab Notebooks/model_init_2019-10-0718_14_20.477640/model-00028-0.56436-0.78571-1.28955-0.50000.h5\n",
      "Epoch 29/50\n",
      "42/42 [==============================] - 14s 335ms/step - loss: 0.4894 - categorical_accuracy: 0.8492 - val_loss: 1.4345 - val_categorical_accuracy: 0.4643\n",
      "\n",
      "Epoch 00029: saving model to ../content/gdrive/My Drive/Colab Notebooks/model_init_2019-10-0718_14_20.477640/model-00029-0.48940-0.84921-1.43452-0.46429.h5\n",
      "Epoch 30/50\n",
      "42/42 [==============================] - 14s 322ms/step - loss: 0.4120 - categorical_accuracy: 0.8730 - val_loss: 0.9188 - val_categorical_accuracy: 0.5714\n",
      "\n",
      "Epoch 00030: saving model to ../content/gdrive/My Drive/Colab Notebooks/model_init_2019-10-0718_14_20.477640/model-00030-0.41200-0.87302-0.91880-0.57143.h5\n",
      "Epoch 31/50\n",
      "42/42 [==============================] - 14s 332ms/step - loss: 0.4225 - categorical_accuracy: 0.8889 - val_loss: 0.9273 - val_categorical_accuracy: 0.6786\n",
      "\n",
      "Epoch 00031: saving model to ../content/gdrive/My Drive/Colab Notebooks/model_init_2019-10-0718_14_20.477640/model-00031-0.42251-0.88889-0.92729-0.67857.h5\n",
      "\n",
      "Epoch 00031: ReduceLROnPlateau reducing learning rate to 6.25000029685907e-05.\n",
      "Epoch 32/50\n",
      "42/42 [==============================] - 14s 327ms/step - loss: 0.5188 - categorical_accuracy: 0.8175 - val_loss: 1.1395 - val_categorical_accuracy: 0.5357\n",
      "\n",
      "Epoch 00032: saving model to ../content/gdrive/My Drive/Colab Notebooks/model_init_2019-10-0718_14_20.477640/model-00032-0.51881-0.81746-1.13947-0.53571.h5\n",
      "Epoch 33/50\n",
      "42/42 [==============================] - 15s 346ms/step - loss: 0.3392 - categorical_accuracy: 0.9048 - val_loss: 1.5079 - val_categorical_accuracy: 0.4286\n",
      "\n",
      "Epoch 00033: saving model to ../content/gdrive/My Drive/Colab Notebooks/model_init_2019-10-0718_14_20.477640/model-00033-0.33922-0.90476-1.50785-0.42857.h5\n",
      "Epoch 34/50\n",
      "42/42 [==============================] - 15s 346ms/step - loss: 0.3704 - categorical_accuracy: 0.9048 - val_loss: 1.1170 - val_categorical_accuracy: 0.6071\n",
      "\n",
      "Epoch 00034: saving model to ../content/gdrive/My Drive/Colab Notebooks/model_init_2019-10-0718_14_20.477640/model-00034-0.37040-0.90476-1.11702-0.60714.h5\n",
      "Epoch 35/50\n",
      "42/42 [==============================] - 14s 327ms/step - loss: 0.3883 - categorical_accuracy: 0.8730 - val_loss: 1.6647 - val_categorical_accuracy: 0.3929\n",
      "\n",
      "Epoch 00035: saving model to ../content/gdrive/My Drive/Colab Notebooks/model_init_2019-10-0718_14_20.477640/model-00035-0.38827-0.87302-1.66470-0.39286.h5\n",
      "\n",
      "Epoch 00035: ReduceLROnPlateau reducing learning rate to 3.125000148429535e-05.\n",
      "Epoch 36/50\n",
      "42/42 [==============================] - 14s 331ms/step - loss: 0.4178 - categorical_accuracy: 0.8254 - val_loss: 0.8041 - val_categorical_accuracy: 0.6786\n",
      "\n",
      "Epoch 00036: saving model to ../content/gdrive/My Drive/Colab Notebooks/model_init_2019-10-0718_14_20.477640/model-00036-0.41783-0.82540-0.80406-0.67857.h5\n",
      "Epoch 37/50\n",
      "42/42 [==============================] - 14s 330ms/step - loss: 0.3408 - categorical_accuracy: 0.8968 - val_loss: 0.6937 - val_categorical_accuracy: 0.6429\n",
      "\n",
      "Epoch 00037: saving model to ../content/gdrive/My Drive/Colab Notebooks/model_init_2019-10-0718_14_20.477640/model-00037-0.34076-0.89683-0.69365-0.64286.h5\n",
      "Epoch 38/50\n",
      "42/42 [==============================] - 13s 316ms/step - loss: 0.4494 - categorical_accuracy: 0.8333 - val_loss: 1.2222 - val_categorical_accuracy: 0.5357\n",
      "\n",
      "Epoch 00038: saving model to ../content/gdrive/My Drive/Colab Notebooks/model_init_2019-10-0718_14_20.477640/model-00038-0.44938-0.83333-1.22215-0.53571.h5\n",
      "Epoch 39/50\n",
      "42/42 [==============================] - 14s 327ms/step - loss: 0.3307 - categorical_accuracy: 0.8968 - val_loss: 1.1276 - val_categorical_accuracy: 0.6071\n",
      "\n",
      "Epoch 00039: saving model to ../content/gdrive/My Drive/Colab Notebooks/model_init_2019-10-0718_14_20.477640/model-00039-0.33070-0.89683-1.12759-0.60714.h5\n",
      "Epoch 40/50\n",
      "42/42 [==============================] - 14s 326ms/step - loss: 0.4192 - categorical_accuracy: 0.8810 - val_loss: 0.9293 - val_categorical_accuracy: 0.6429\n",
      "\n",
      "Epoch 00040: saving model to ../content/gdrive/My Drive/Colab Notebooks/model_init_2019-10-0718_14_20.477640/model-00040-0.41920-0.88095-0.92931-0.64286.h5\n",
      "Epoch 41/50\n",
      "42/42 [==============================] - 14s 325ms/step - loss: 0.3705 - categorical_accuracy: 0.8889 - val_loss: 1.3126 - val_categorical_accuracy: 0.5357\n",
      "\n",
      "Epoch 00041: saving model to ../content/gdrive/My Drive/Colab Notebooks/model_init_2019-10-0718_14_20.477640/model-00041-0.37054-0.88889-1.31264-0.53571.h5\n",
      "\n",
      "Epoch 00041: ReduceLROnPlateau reducing learning rate to 1.5625000742147677e-05.\n",
      "Epoch 42/50\n",
      "42/42 [==============================] - 14s 326ms/step - loss: 0.2995 - categorical_accuracy: 0.9286 - val_loss: 0.8740 - val_categorical_accuracy: 0.6786\n",
      "\n",
      "Epoch 00042: saving model to ../content/gdrive/My Drive/Colab Notebooks/model_init_2019-10-0718_14_20.477640/model-00042-0.29945-0.92857-0.87401-0.67857.h5\n",
      "Epoch 43/50\n",
      "42/42 [==============================] - 14s 337ms/step - loss: 0.4263 - categorical_accuracy: 0.8492 - val_loss: 0.9495 - val_categorical_accuracy: 0.6071\n",
      "\n",
      "Epoch 00043: saving model to ../content/gdrive/My Drive/Colab Notebooks/model_init_2019-10-0718_14_20.477640/model-00043-0.42632-0.84921-0.94948-0.60714.h5\n",
      "Epoch 44/50\n",
      "42/42 [==============================] - 14s 325ms/step - loss: 0.4147 - categorical_accuracy: 0.8571 - val_loss: 1.5294 - val_categorical_accuracy: 0.5357\n",
      "\n",
      "Epoch 00044: saving model to ../content/gdrive/My Drive/Colab Notebooks/model_init_2019-10-0718_14_20.477640/model-00044-0.41469-0.85714-1.52937-0.53571.h5\n",
      "Epoch 45/50\n",
      "42/42 [==============================] - 14s 337ms/step - loss: 0.3815 - categorical_accuracy: 0.8968 - val_loss: 0.8726 - val_categorical_accuracy: 0.7143\n",
      "\n",
      "Epoch 00045: saving model to ../content/gdrive/My Drive/Colab Notebooks/model_init_2019-10-0718_14_20.477640/model-00045-0.38151-0.89683-0.87257-0.71429.h5\n",
      "\n",
      "Epoch 00045: ReduceLROnPlateau reducing learning rate to 7.812500371073838e-06.\n",
      "Epoch 46/50\n",
      "42/42 [==============================] - 14s 325ms/step - loss: 0.3369 - categorical_accuracy: 0.9048 - val_loss: 1.3836 - val_categorical_accuracy: 0.4286\n",
      "\n",
      "Epoch 00046: saving model to ../content/gdrive/My Drive/Colab Notebooks/model_init_2019-10-0718_14_20.477640/model-00046-0.33686-0.90476-1.38360-0.42857.h5\n",
      "Epoch 47/50\n",
      "42/42 [==============================] - 14s 327ms/step - loss: 0.3212 - categorical_accuracy: 0.9206 - val_loss: 1.2378 - val_categorical_accuracy: 0.5714\n",
      "\n",
      "Epoch 00047: saving model to ../content/gdrive/My Drive/Colab Notebooks/model_init_2019-10-0718_14_20.477640/model-00047-0.32119-0.92063-1.23780-0.57143.h5\n",
      "Epoch 48/50\n",
      "42/42 [==============================] - 15s 354ms/step - loss: 0.3584 - categorical_accuracy: 0.8730 - val_loss: 0.8271 - val_categorical_accuracy: 0.6786\n",
      "\n",
      "Epoch 00048: saving model to ../content/gdrive/My Drive/Colab Notebooks/model_init_2019-10-0718_14_20.477640/model-00048-0.35841-0.87302-0.82712-0.67857.h5\n",
      "Epoch 49/50\n",
      "42/42 [==============================] - 14s 331ms/step - loss: 0.2967 - categorical_accuracy: 0.9127 - val_loss: 1.6461 - val_categorical_accuracy: 0.4286\n",
      "\n",
      "Epoch 00049: saving model to ../content/gdrive/My Drive/Colab Notebooks/model_init_2019-10-0718_14_20.477640/model-00049-0.29675-0.91270-1.64607-0.42857.h5\n",
      "\n",
      "Epoch 00049: ReduceLROnPlateau reducing learning rate to 3.906250185536919e-06.\n",
      "Epoch 50/50\n",
      "42/42 [==============================] - 14s 331ms/step - loss: 0.3174 - categorical_accuracy: 0.9048 - val_loss: 1.1018 - val_categorical_accuracy: 0.6071\n",
      "\n",
      "Epoch 00050: saving model to ../content/gdrive/My Drive/Colab Notebooks/model_init_2019-10-0718_14_20.477640/model-00050-0.31742-0.90476-1.10184-0.60714.h5\n"
     ]
    }
   ],
   "source": [
    "hist = model.fit_generator(train_generator, steps_per_epoch=steps_per_epoch, epochs=num_epochs, verbose=1, \n",
    "                    callbacks=callbacks_list, validation_data=val_generator, \n",
    "                    validation_steps=validation_steps, class_weight=None, workers=1, initial_epoch=0)"
   ]
  },
  {
   "cell_type": "code",
   "execution_count": 27,
   "metadata": {
    "colab": {
     "base_uri": "https://localhost:8080/",
     "height": 324
    },
    "colab_type": "code",
    "id": "DHOgG_8SuQ88",
    "outputId": "732952be-ff3a-4ff6-d1a4-7bf74b7eff6d"
   },
   "outputs": [
    {
     "data": {
      "image/png": "[encoded data removed]",
      "text/plain": [
       "<Figure size 576x360 with 1 Axes>"
      ]
     },
     "metadata": {
      "tags": []
     },
     "output_type": "display_data"
    }
   ],
   "source": [
    "import pandas as pd\n",
    "pd.DataFrame(hist.history).plot(figsize = (8,5))\n",
    "plt.grid(True)\n",
    "plt.gca().set_ylim(0,1)\n",
    "plt.show()"
   ]
  },
  {
   "cell_type": "code",
   "execution_count": 0,
   "metadata": {
    "colab": {},
    "colab_type": "code",
    "id": "fUSboK-jxWtM"
   },
   "outputs": [],
   "source": [
    "#model 3 Customized CNN and GRU\n",
    "\n",
    "input_shape=(img_frms,img_rows,img_cols,img_channels)\n",
    "\n",
    "model = Sequential()\n",
    "\n",
    "model.add(TimeDistributed(Conv2D(16, (3, 3),\n",
    "    activation='relu', padding='same'), input_shape=input_shape))\n",
    "model.add(TimeDistributed(Conv2D(16, (3,3),\n",
    "    kernel_initializer=\"he_normal\", activation='relu')))\n",
    "model.add(TimeDistributed(MaxPooling2D((2, 2))))\n",
    "\n",
    "model.add(TimeDistributed(Conv2D(32, (3,3),\n",
    "    padding='same', activation='relu')))\n",
    "model.add(TimeDistributed(Conv2D(32, (3,3),\n",
    "    padding='same', activation='relu')))\n",
    "model.add(TimeDistributed(MaxPooling2D((2, 2))))\n",
    "\n",
    "model.add(TimeDistributed(Conv2D(64, (3,3),\n",
    "    padding='same', activation='relu')))\n",
    "model.add(TimeDistributed(Conv2D(64, (3,3),\n",
    "    padding='same', activation='relu')))\n",
    "model.add(TimeDistributed(MaxPooling2D((2, 2))))\n",
    "\n",
    "model.add(TimeDistributed(Flatten()))\n",
    "\n",
    "model.add(Dropout(0.5))\n",
    "model.add(GRU(128, return_sequences=False, dropout=0.5))\n",
    "\n",
    "model.add(Dense(nb_classes, activation='softmax'))"
   ]
  },
  {
   "cell_type": "code",
   "execution_count": 29,
   "metadata": {
    "colab": {
     "base_uri": "https://localhost:8080/",
     "height": 605
    },
    "colab_type": "code",
    "id": "9gWv5Z4qHI62",
    "outputId": "f1ea2220-e4b7-411e-d67d-bb549f29405c"
   },
   "outputs": [
    {
     "name": "stdout",
     "output_type": "stream",
     "text": [
      "Model: \"sequential_3\"\n",
      "_________________________________________________________________\n",
      "Layer (type)                 Output Shape              Param #   \n",
      "=================================================================\n",
      "time_distributed_25 (TimeDis (None, 15, 80, 80, 16)    448       \n",
      "_________________________________________________________________\n",
      "time_distributed_26 (TimeDis (None, 15, 78, 78, 16)    2320      \n",
      "_________________________________________________________________\n",
      "time_distributed_27 (TimeDis (None, 15, 39, 39, 16)    0         \n",
      "_________________________________________________________________\n",
      "time_distributed_28 (TimeDis (None, 15, 39, 39, 32)    4640      \n",
      "_________________________________________________________________\n",
      "time_distributed_29 (TimeDis (None, 15, 39, 39, 32)    9248      \n",
      "_________________________________________________________________\n",
      "time_distributed_30 (TimeDis (None, 15, 19, 19, 32)    0         \n",
      "_________________________________________________________________\n",
      "time_distributed_31 (TimeDis (None, 15, 19, 19, 64)    18496     \n",
      "_________________________________________________________________\n",
      "time_distributed_32 (TimeDis (None, 15, 19, 19, 64)    36928     \n",
      "_________________________________________________________________\n",
      "time_distributed_33 (TimeDis (None, 15, 9, 9, 64)      0         \n",
      "_________________________________________________________________\n",
      "time_distributed_34 (TimeDis (None, 15, 5184)          0         \n",
      "_________________________________________________________________\n",
      "dropout_3 (Dropout)          (None, 15, 5184)          0         \n",
      "_________________________________________________________________\n",
      "gru_1 (GRU)                  (None, 128)               2040192   \n",
      "_________________________________________________________________\n",
      "dense_5 (Dense)              (None, 5)                 645       \n",
      "=================================================================\n",
      "Total params: 2,112,917\n",
      "Trainable params: 2,112,917\n",
      "Non-trainable params: 0\n",
      "_________________________________________________________________\n",
      "None\n"
     ]
    }
   ],
   "source": [
    "optimiser = optimizers.SGD(lr=0.001, decay=1e-6, momentum=0.7, nesterov=True)\n",
    "model.compile(optimizer=optimiser, loss='categorical_crossentropy', metrics=['categorical_accuracy'])\n",
    "print (model.summary())"
   ]
  },
  {
   "cell_type": "code",
   "execution_count": 0,
   "metadata": {
    "colab": {},
    "colab_type": "code",
    "id": "btoZeIh8Hg3K"
   },
   "outputs": [],
   "source": [
    "train_generator = generator(train_path, train_doc, train_batch_size)\n",
    "val_generator = generator(val_path, val_doc, valid_batch_size)"
   ]
  },
  {
   "cell_type": "code",
   "execution_count": 31,
   "metadata": {
    "colab": {
     "base_uri": "https://localhost:8080/",
     "height": 1000
    },
    "colab_type": "code",
    "id": "cmnfrXInHlgc",
    "outputId": "b419203c-cffe-4bde-b101-e0572e939f94"
   },
   "outputs": [
    {
     "name": "stdout",
     "output_type": "stream",
     "text": [
      "Epoch 1/50\n",
      "Source path =  ../content/gdrive/My Drive/Colab Notebooks/Project_data/val ; batch size = 16\n",
      "Source path =  ../content/gdrive/My Drive/Colab Notebooks/Project_data/train ; batch size = 16\n",
      "42/42 [==============================] - 68s 2s/step - loss: 1.6121 - categorical_accuracy: 0.1775 - val_loss: 1.6038 - val_categorical_accuracy: 0.2300\n",
      "\n",
      "Epoch 00001: saving model to ../content/gdrive/My Drive/Colab Notebooks/model_init_2019-10-0718_14_20.477640/model-00001-1.61189-0.17798-1.60382-0.23000.h5\n",
      "Epoch 2/50\n",
      "42/42 [==============================] - 26s 607ms/step - loss: 1.6026 - categorical_accuracy: 0.2211 - val_loss: 1.5944 - val_categorical_accuracy: 0.2143\n",
      "\n",
      "Epoch 00002: saving model to ../content/gdrive/My Drive/Colab Notebooks/model_init_2019-10-0718_14_20.477640/model-00002-1.60258-0.22109-1.59439-0.21429.h5\n",
      "Epoch 3/50\n",
      "42/42 [==============================] - 28s 661ms/step - loss: 1.6073 - categorical_accuracy: 0.2041 - val_loss: 1.6072 - val_categorical_accuracy: 0.1071\n",
      "\n",
      "Epoch 00003: saving model to ../content/gdrive/My Drive/Colab Notebooks/model_init_2019-10-0718_14_20.477640/model-00003-1.60735-0.20408-1.60725-0.10714.h5\n",
      "Epoch 4/50\n",
      "42/42 [==============================] - 23s 554ms/step - loss: 1.5974 - categorical_accuracy: 0.2354 - val_loss: 1.5951 - val_categorical_accuracy: 0.2143\n",
      "\n",
      "Epoch 00004: saving model to ../content/gdrive/My Drive/Colab Notebooks/model_init_2019-10-0718_14_20.477640/model-00004-1.59750-0.23478-1.59514-0.21429.h5\n",
      "Epoch 5/50\n",
      "42/42 [==============================] - 21s 498ms/step - loss: 1.6141 - categorical_accuracy: 0.1952 - val_loss: 1.5959 - val_categorical_accuracy: 0.1786\n",
      "\n",
      "Epoch 00005: saving model to ../content/gdrive/My Drive/Colab Notebooks/model_init_2019-10-0718_14_20.477640/model-00005-1.61408-0.19524-1.59589-0.17857.h5\n",
      "Epoch 6/50\n",
      "42/42 [==============================] - 21s 496ms/step - loss: 1.6042 - categorical_accuracy: 0.2714 - val_loss: 1.5769 - val_categorical_accuracy: 0.2857\n",
      "\n",
      "Epoch 00006: saving model to ../content/gdrive/My Drive/Colab Notebooks/model_init_2019-10-0718_14_20.477640/model-00006-1.60422-0.27143-1.57688-0.28571.h5\n",
      "Epoch 7/50\n",
      "42/42 [==============================] - 17s 395ms/step - loss: 1.5823 - categorical_accuracy: 0.2697 - val_loss: 1.6077 - val_categorical_accuracy: 0.2143\n",
      "\n",
      "Epoch 00007: saving model to ../content/gdrive/My Drive/Colab Notebooks/model_init_2019-10-0718_14_20.477640/model-00007-1.58676-0.26250-1.60774-0.21429.h5\n",
      "Epoch 8/50\n",
      "42/42 [==============================] - 14s 326ms/step - loss: 1.6125 - categorical_accuracy: 0.2143 - val_loss: 1.5757 - val_categorical_accuracy: 0.2500\n",
      "\n",
      "Epoch 00008: saving model to ../content/gdrive/My Drive/Colab Notebooks/model_init_2019-10-0718_14_20.477640/model-00008-1.61251-0.21429-1.57571-0.25000.h5\n",
      "Epoch 9/50\n",
      "42/42 [==============================] - 14s 323ms/step - loss: 1.5860 - categorical_accuracy: 0.2222 - val_loss: 1.5835 - val_categorical_accuracy: 0.2143\n",
      "\n",
      "Epoch 00009: saving model to ../content/gdrive/My Drive/Colab Notebooks/model_init_2019-10-0718_14_20.477640/model-00009-1.58603-0.22222-1.58348-0.21429.h5\n",
      "Epoch 10/50\n",
      "42/42 [==============================] - 14s 330ms/step - loss: 1.6012 - categorical_accuracy: 0.2698 - val_loss: 1.5923 - val_categorical_accuracy: 0.2857\n",
      "\n",
      "Epoch 00010: saving model to ../content/gdrive/My Drive/Colab Notebooks/model_init_2019-10-0718_14_20.477640/model-00010-1.60121-0.26984-1.59234-0.28571.h5\n",
      "Epoch 11/50\n",
      "42/42 [==============================] - 14s 339ms/step - loss: 1.5845 - categorical_accuracy: 0.3016 - val_loss: 1.5650 - val_categorical_accuracy: 0.1429\n",
      "\n",
      "Epoch 00011: saving model to ../content/gdrive/My Drive/Colab Notebooks/model_init_2019-10-0718_14_20.477640/model-00011-1.58446-0.30159-1.56499-0.14286.h5\n",
      "Epoch 12/50\n",
      "42/42 [==============================] - 14s 327ms/step - loss: 1.5695 - categorical_accuracy: 0.2540 - val_loss: 1.5258 - val_categorical_accuracy: 0.2857\n",
      "\n",
      "Epoch 00012: saving model to ../content/gdrive/My Drive/Colab Notebooks/model_init_2019-10-0718_14_20.477640/model-00012-1.56946-0.25397-1.52577-0.28571.h5\n",
      "Epoch 13/50\n",
      "42/42 [==============================] - 14s 326ms/step - loss: 1.5886 - categorical_accuracy: 0.1984 - val_loss: 1.5860 - val_categorical_accuracy: 0.2857\n",
      "\n",
      "Epoch 00013: saving model to ../content/gdrive/My Drive/Colab Notebooks/model_init_2019-10-0718_14_20.477640/model-00013-1.58856-0.19841-1.58600-0.28571.h5\n",
      "Epoch 14/50\n",
      "42/42 [==============================] - 14s 331ms/step - loss: 1.5827 - categorical_accuracy: 0.2857 - val_loss: 1.5716 - val_categorical_accuracy: 0.4286\n",
      "\n",
      "Epoch 00014: saving model to ../content/gdrive/My Drive/Colab Notebooks/model_init_2019-10-0718_14_20.477640/model-00014-1.58268-0.28571-1.57162-0.42857.h5\n",
      "Epoch 15/50\n",
      "42/42 [==============================] - 14s 330ms/step - loss: 1.5560 - categorical_accuracy: 0.2619 - val_loss: 1.5703 - val_categorical_accuracy: 0.3929\n",
      "\n",
      "Epoch 00015: saving model to ../content/gdrive/My Drive/Colab Notebooks/model_init_2019-10-0718_14_20.477640/model-00015-1.55600-0.26190-1.57032-0.39286.h5\n",
      "Epoch 16/50\n",
      "42/42 [==============================] - 14s 330ms/step - loss: 1.5657 - categorical_accuracy: 0.3810 - val_loss: 1.5140 - val_categorical_accuracy: 0.2857\n",
      "\n",
      "Epoch 00016: saving model to ../content/gdrive/My Drive/Colab Notebooks/model_init_2019-10-0718_14_20.477640/model-00016-1.56575-0.38095-1.51398-0.28571.h5\n",
      "Epoch 17/50\n",
      "42/42 [==============================] - 15s 349ms/step - loss: 1.5338 - categorical_accuracy: 0.3333 - val_loss: 1.5131 - val_categorical_accuracy: 0.5000\n",
      "\n",
      "Epoch 00017: saving model to ../content/gdrive/My Drive/Colab Notebooks/model_init_2019-10-0718_14_20.477640/model-00017-1.53376-0.33333-1.51306-0.50000.h5\n",
      "Epoch 18/50\n",
      "42/42 [==============================] - 14s 324ms/step - loss: 1.5182 - categorical_accuracy: 0.3413 - val_loss: 1.5801 - val_categorical_accuracy: 0.1429\n",
      "\n",
      "Epoch 00018: saving model to ../content/gdrive/My Drive/Colab Notebooks/model_init_2019-10-0718_14_20.477640/model-00018-1.51822-0.34127-1.58008-0.14286.h5\n",
      "Epoch 19/50\n",
      "42/42 [==============================] - 14s 344ms/step - loss: 1.5190 - categorical_accuracy: 0.3254 - val_loss: 1.4763 - val_categorical_accuracy: 0.4286\n",
      "\n",
      "Epoch 00019: saving model to ../content/gdrive/My Drive/Colab Notebooks/model_init_2019-10-0718_14_20.477640/model-00019-1.51900-0.32540-1.47626-0.42857.h5\n",
      "Epoch 20/50\n",
      "42/42 [==============================] - 14s 330ms/step - loss: 1.5032 - categorical_accuracy: 0.2937 - val_loss: 1.3681 - val_categorical_accuracy: 0.3929\n",
      "\n",
      "Epoch 00020: saving model to ../content/gdrive/My Drive/Colab Notebooks/model_init_2019-10-0718_14_20.477640/model-00020-1.50325-0.29365-1.36812-0.39286.h5\n",
      "Epoch 21/50\n",
      "42/42 [==============================] - 14s 329ms/step - loss: 1.4631 - categorical_accuracy: 0.3889 - val_loss: 1.5227 - val_categorical_accuracy: 0.4286\n",
      "\n",
      "Epoch 00021: saving model to ../content/gdrive/My Drive/Colab Notebooks/model_init_2019-10-0718_14_20.477640/model-00021-1.46310-0.38889-1.52267-0.42857.h5\n",
      "Epoch 22/50\n",
      "42/42 [==============================] - 14s 327ms/step - loss: 1.4371 - categorical_accuracy: 0.3810 - val_loss: 1.4300 - val_categorical_accuracy: 0.3571\n",
      "\n",
      "Epoch 00022: saving model to ../content/gdrive/My Drive/Colab Notebooks/model_init_2019-10-0718_14_20.477640/model-00022-1.43713-0.38095-1.42999-0.35714.h5\n",
      "Epoch 23/50\n",
      "42/42 [==============================] - 14s 326ms/step - loss: 1.4498 - categorical_accuracy: 0.4048 - val_loss: 1.3810 - val_categorical_accuracy: 0.4643\n",
      "\n",
      "Epoch 00023: saving model to ../content/gdrive/My Drive/Colab Notebooks/model_init_2019-10-0718_14_20.477640/model-00023-1.44977-0.40476-1.38096-0.46429.h5\n",
      "Epoch 24/50\n",
      "42/42 [==============================] - 13s 318ms/step - loss: 1.4049 - categorical_accuracy: 0.4127 - val_loss: 1.3615 - val_categorical_accuracy: 0.4643\n",
      "\n",
      "Epoch 00024: saving model to ../content/gdrive/My Drive/Colab Notebooks/model_init_2019-10-0718_14_20.477640/model-00024-1.40492-0.41270-1.36153-0.46429.h5\n",
      "Epoch 25/50\n",
      "42/42 [==============================] - 14s 336ms/step - loss: 1.4273 - categorical_accuracy: 0.3968 - val_loss: 1.4344 - val_categorical_accuracy: 0.4286\n",
      "\n",
      "Epoch 00025: saving model to ../content/gdrive/My Drive/Colab Notebooks/model_init_2019-10-0718_14_20.477640/model-00025-1.42731-0.39683-1.43444-0.42857.h5\n",
      "Epoch 26/50\n",
      "42/42 [==============================] - 14s 333ms/step - loss: 1.4963 - categorical_accuracy: 0.3730 - val_loss: 1.3644 - val_categorical_accuracy: 0.4286\n",
      "\n",
      "Epoch 00026: saving model to ../content/gdrive/My Drive/Colab Notebooks/model_init_2019-10-0718_14_20.477640/model-00026-1.49630-0.37302-1.36441-0.42857.h5\n",
      "Epoch 27/50\n",
      "42/42 [==============================] - 13s 319ms/step - loss: 1.4146 - categorical_accuracy: 0.3492 - val_loss: 1.4182 - val_categorical_accuracy: 0.3929\n",
      "\n",
      "Epoch 00027: saving model to ../content/gdrive/My Drive/Colab Notebooks/model_init_2019-10-0718_14_20.477640/model-00027-1.41460-0.34921-1.41816-0.39286.h5\n",
      "Epoch 28/50\n",
      "42/42 [==============================] - 13s 319ms/step - loss: 1.3868 - categorical_accuracy: 0.4365 - val_loss: 1.4126 - val_categorical_accuracy: 0.3214\n",
      "\n",
      "Epoch 00028: saving model to ../content/gdrive/My Drive/Colab Notebooks/model_init_2019-10-0718_14_20.477640/model-00028-1.38678-0.43651-1.41263-0.32143.h5\n",
      "\n",
      "Epoch 00028: ReduceLROnPlateau reducing learning rate to 0.0005000000237487257.\n",
      "Epoch 29/50\n",
      "42/42 [==============================] - 13s 319ms/step - loss: 1.3386 - categorical_accuracy: 0.4206 - val_loss: 1.2142 - val_categorical_accuracy: 0.5000\n",
      "\n",
      "Epoch 00029: saving model to ../content/gdrive/My Drive/Colab Notebooks/model_init_2019-10-0718_14_20.477640/model-00029-1.33859-0.42063-1.21418-0.50000.h5\n",
      "Epoch 30/50\n",
      "42/42 [==============================] - 13s 320ms/step - loss: 1.3384 - categorical_accuracy: 0.4048 - val_loss: 1.2432 - val_categorical_accuracy: 0.6429\n",
      "\n",
      "Epoch 00030: saving model to ../content/gdrive/My Drive/Colab Notebooks/model_init_2019-10-0718_14_20.477640/model-00030-1.33839-0.40476-1.24321-0.64286.h5\n",
      "Epoch 31/50\n",
      "42/42 [==============================] - 14s 343ms/step - loss: 1.4212 - categorical_accuracy: 0.3889 - val_loss: 1.2196 - val_categorical_accuracy: 0.4286\n",
      "\n",
      "Epoch 00031: saving model to ../content/gdrive/My Drive/Colab Notebooks/model_init_2019-10-0718_14_20.477640/model-00031-1.42117-0.38889-1.21961-0.42857.h5\n",
      "Epoch 32/50\n",
      "42/42 [==============================] - 14s 321ms/step - loss: 1.3351 - categorical_accuracy: 0.4444 - val_loss: 1.3821 - val_categorical_accuracy: 0.2857\n",
      "\n",
      "Epoch 00032: saving model to ../content/gdrive/My Drive/Colab Notebooks/model_init_2019-10-0718_14_20.477640/model-00032-1.33508-0.44444-1.38214-0.28571.h5\n",
      "Epoch 33/50\n",
      "42/42 [==============================] - 14s 331ms/step - loss: 1.3384 - categorical_accuracy: 0.3968 - val_loss: 1.4731 - val_categorical_accuracy: 0.3929\n",
      "\n",
      "Epoch 00033: saving model to ../content/gdrive/My Drive/Colab Notebooks/model_init_2019-10-0718_14_20.477640/model-00033-1.33838-0.39683-1.47306-0.39286.h5\n",
      "\n",
      "Epoch 00033: ReduceLROnPlateau reducing learning rate to 0.0002500000118743628.\n",
      "Epoch 34/50\n",
      "42/42 [==============================] - 14s 335ms/step - loss: 1.3210 - categorical_accuracy: 0.4444 - val_loss: 1.2348 - val_categorical_accuracy: 0.5357\n",
      "\n",
      "Epoch 00034: saving model to ../content/gdrive/My Drive/Colab Notebooks/model_init_2019-10-0718_14_20.477640/model-00034-1.32100-0.44444-1.23476-0.53571.h5\n",
      "Epoch 35/50\n",
      "42/42 [==============================] - 14s 334ms/step - loss: 1.2289 - categorical_accuracy: 0.5476 - val_loss: 1.3385 - val_categorical_accuracy: 0.4643\n",
      "\n",
      "Epoch 00035: saving model to ../content/gdrive/My Drive/Colab Notebooks/model_init_2019-10-0718_14_20.477640/model-00035-1.22894-0.54762-1.33846-0.46429.h5\n",
      "Epoch 36/50\n",
      "42/42 [==============================] - 14s 336ms/step - loss: 1.3692 - categorical_accuracy: 0.4444 - val_loss: 1.4323 - val_categorical_accuracy: 0.3571\n",
      "\n",
      "Epoch 00036: saving model to ../content/gdrive/My Drive/Colab Notebooks/model_init_2019-10-0718_14_20.477640/model-00036-1.36921-0.44444-1.43234-0.35714.h5\n",
      "Epoch 37/50\n",
      "42/42 [==============================] - 14s 329ms/step - loss: 1.3052 - categorical_accuracy: 0.5317 - val_loss: 1.3028 - val_categorical_accuracy: 0.4643\n",
      "\n",
      "Epoch 00037: saving model to ../content/gdrive/My Drive/Colab Notebooks/model_init_2019-10-0718_14_20.477640/model-00037-1.30524-0.53175-1.30276-0.46429.h5\n",
      "\n",
      "Epoch 00037: ReduceLROnPlateau reducing learning rate to 0.0001250000059371814.\n",
      "Epoch 38/50\n",
      "42/42 [==============================] - 14s 330ms/step - loss: 1.2754 - categorical_accuracy: 0.4683 - val_loss: 1.2651 - val_categorical_accuracy: 0.4643\n",
      "\n",
      "Epoch 00038: saving model to ../content/gdrive/My Drive/Colab Notebooks/model_init_2019-10-0718_14_20.477640/model-00038-1.27539-0.46825-1.26510-0.46429.h5\n",
      "Epoch 39/50\n",
      "42/42 [==============================] - 15s 349ms/step - loss: 1.3257 - categorical_accuracy: 0.4524 - val_loss: 1.2828 - val_categorical_accuracy: 0.4286\n",
      "\n",
      "Epoch 00039: saving model to ../content/gdrive/My Drive/Colab Notebooks/model_init_2019-10-0718_14_20.477640/model-00039-1.32569-0.45238-1.28284-0.42857.h5\n",
      "Epoch 40/50\n",
      "42/42 [==============================] - 14s 338ms/step - loss: 1.2786 - categorical_accuracy: 0.4524 - val_loss: 1.2203 - val_categorical_accuracy: 0.5714\n",
      "\n",
      "Epoch 00040: saving model to ../content/gdrive/My Drive/Colab Notebooks/model_init_2019-10-0718_14_20.477640/model-00040-1.27861-0.45238-1.22030-0.57143.h5\n",
      "Epoch 41/50\n",
      "42/42 [==============================] - 13s 316ms/step - loss: 1.2774 - categorical_accuracy: 0.4841 - val_loss: 1.3993 - val_categorical_accuracy: 0.3929\n",
      "\n",
      "Epoch 00041: saving model to ../content/gdrive/My Drive/Colab Notebooks/model_init_2019-10-0718_14_20.477640/model-00041-1.27741-0.48413-1.39935-0.39286.h5\n",
      "\n",
      "Epoch 00041: ReduceLROnPlateau reducing learning rate to 6.25000029685907e-05.\n",
      "Epoch 42/50\n",
      "42/42 [==============================] - 14s 327ms/step - loss: 1.2960 - categorical_accuracy: 0.4365 - val_loss: 1.3032 - val_categorical_accuracy: 0.4286\n",
      "\n",
      "Epoch 00042: saving model to ../content/gdrive/My Drive/Colab Notebooks/model_init_2019-10-0718_14_20.477640/model-00042-1.29596-0.43651-1.30323-0.42857.h5\n",
      "Epoch 43/50\n",
      "42/42 [==============================] - 14s 334ms/step - loss: 1.2733 - categorical_accuracy: 0.4444 - val_loss: 1.2632 - val_categorical_accuracy: 0.4643\n",
      "\n",
      "Epoch 00043: saving model to ../content/gdrive/My Drive/Colab Notebooks/model_init_2019-10-0718_14_20.477640/model-00043-1.27331-0.44444-1.26318-0.46429.h5\n",
      "Epoch 44/50\n",
      "42/42 [==============================] - 14s 341ms/step - loss: 1.2648 - categorical_accuracy: 0.5476 - val_loss: 1.2415 - val_categorical_accuracy: 0.5000\n",
      "\n",
      "Epoch 00044: saving model to ../content/gdrive/My Drive/Colab Notebooks/model_init_2019-10-0718_14_20.477640/model-00044-1.26484-0.54762-1.24155-0.50000.h5\n",
      "Epoch 45/50\n",
      "42/42 [==============================] - 13s 320ms/step - loss: 1.2337 - categorical_accuracy: 0.5317 - val_loss: 1.3630 - val_categorical_accuracy: 0.3571\n",
      "\n",
      "Epoch 00045: saving model to ../content/gdrive/My Drive/Colab Notebooks/model_init_2019-10-0718_14_20.477640/model-00045-1.23366-0.53175-1.36301-0.35714.h5\n",
      "\n",
      "Epoch 00045: ReduceLROnPlateau reducing learning rate to 3.125000148429535e-05.\n",
      "Epoch 46/50\n",
      "42/42 [==============================] - 14s 337ms/step - loss: 1.2783 - categorical_accuracy: 0.4286 - val_loss: 1.2502 - val_categorical_accuracy: 0.4643\n",
      "\n",
      "Epoch 00046: saving model to ../content/gdrive/My Drive/Colab Notebooks/model_init_2019-10-0718_14_20.477640/model-00046-1.27834-0.42857-1.25020-0.46429.h5\n",
      "Epoch 47/50\n",
      "42/42 [==============================] - 14s 331ms/step - loss: 1.2722 - categorical_accuracy: 0.4683 - val_loss: 1.2502 - val_categorical_accuracy: 0.4643\n",
      "\n",
      "Epoch 00047: saving model to ../content/gdrive/My Drive/Colab Notebooks/model_init_2019-10-0718_14_20.477640/model-00047-1.27221-0.46825-1.25025-0.46429.h5\n",
      "Epoch 48/50\n",
      "42/42 [==============================] - 13s 320ms/step - loss: 1.3238 - categorical_accuracy: 0.4603 - val_loss: 1.1979 - val_categorical_accuracy: 0.5357\n",
      "\n",
      "Epoch 00048: saving model to ../content/gdrive/My Drive/Colab Notebooks/model_init_2019-10-0718_14_20.477640/model-00048-1.32379-0.46032-1.19790-0.53571.h5\n",
      "Epoch 49/50\n",
      "42/42 [==============================] - 14s 337ms/step - loss: 1.2867 - categorical_accuracy: 0.4365 - val_loss: 1.4382 - val_categorical_accuracy: 0.3571\n",
      "\n",
      "Epoch 00049: saving model to ../content/gdrive/My Drive/Colab Notebooks/model_init_2019-10-0718_14_20.477640/model-00049-1.28665-0.43651-1.43816-0.35714.h5\n",
      "Epoch 50/50\n",
      "42/42 [==============================] - 14s 330ms/step - loss: 1.3282 - categorical_accuracy: 0.4127 - val_loss: 1.3879 - val_categorical_accuracy: 0.3929\n",
      "\n",
      "Epoch 00050: saving model to ../content/gdrive/My Drive/Colab Notebooks/model_init_2019-10-0718_14_20.477640/model-00050-1.32825-0.41270-1.38792-0.39286.h5\n"
     ]
    }
   ],
   "source": [
    "hist = model.fit_generator(train_generator, steps_per_epoch=steps_per_epoch, epochs=num_epochs, verbose=1, \n",
    "                    callbacks=callbacks_list, validation_data=val_generator, \n",
    "                    validation_steps=validation_steps, class_weight=None, workers=1, initial_epoch=0)"
   ]
  },
  {
   "cell_type": "code",
   "execution_count": 0,
   "metadata": {
    "colab": {},
    "colab_type": "code",
    "id": "XgdEjBK_HpTO"
   },
   "outputs": [],
   "source": []
  }
 ],
 "metadata": {
  "accelerator": "GPU",
  "colab": {
   "collapsed_sections": [],
   "name": "Gesture recognition Final_Notebook.ipynb",
   "provenance": []
  },
  "kernelspec": {
   "display_name": "Python 3",
   "language": "python",
   "name": "python3"
  },
  "language_info": {
   "codemirror_mode": {
    "name": "ipython",
    "version": 3
   },
   "file_extension": ".py",
   "mimetype": "text/x-python",
   "name": "python",
   "nbconvert_exporter": "python",
   "pygments_lexer": "ipython3",
   "version": "3.7.0"
  }
 },
 "nbformat": 4,
 "nbformat_minor": 1
}
